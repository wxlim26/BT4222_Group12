{
  "cells": [
    {
      "cell_type": "code",
      "execution_count": 1,
      "metadata": {
        "colab": {
          "base_uri": "https://localhost:8080/"
        },
        "id": "uf-IZ_t3BGGg",
        "outputId": "9fdc1da1-d569-4a4a-ffef-0131e49373de"
      },
      "outputs": [
        {
          "name": "stdout",
          "output_type": "stream",
          "text": [
            "Requirement already satisfied: demoji in c:\\python310\\lib\\site-packages (1.1.0)\n"
          ]
        },
        {
          "name": "stderr",
          "output_type": "stream",
          "text": [
            "WARNING: Ignoring invalid distribution -p (c:\\python310\\lib\\site-packages)\n",
            "WARNING: Ignoring invalid distribution -1p (c:\\python310\\lib\\site-packages)\n",
            "WARNING: Ignoring invalid distribution -yzmq (c:\\python310\\lib\\site-packages)\n",
            "WARNING: Ignoring invalid distribution -p (c:\\python310\\lib\\site-packages)\n",
            "WARNING: Ignoring invalid distribution -0p (c:\\python310\\lib\\site-packages)\n",
            "WARNING: Ignoring invalid distribution -ip (c:\\python310\\lib\\site-packages)\n",
            "WARNING: Ignoring invalid distribution - (c:\\python310\\lib\\site-packages)\n",
            "WARNING: Ignoring invalid distribution -p (c:\\python310\\lib\\site-packages)\n",
            "WARNING: Ignoring invalid distribution -1p (c:\\python310\\lib\\site-packages)\n",
            "WARNING: Ignoring invalid distribution -yzmq (c:\\python310\\lib\\site-packages)\n",
            "WARNING: Ignoring invalid distribution -p (c:\\python310\\lib\\site-packages)\n",
            "WARNING: Ignoring invalid distribution -0p (c:\\python310\\lib\\site-packages)\n",
            "WARNING: Ignoring invalid distribution -ip (c:\\python310\\lib\\site-packages)\n",
            "WARNING: Ignoring invalid distribution - (c:\\python310\\lib\\site-packages)\n",
            "WARNING: Ignoring invalid distribution -p (c:\\python310\\lib\\site-packages)\n",
            "WARNING: Ignoring invalid distribution -1p (c:\\python310\\lib\\site-packages)\n",
            "WARNING: Ignoring invalid distribution -yzmq (c:\\python310\\lib\\site-packages)\n",
            "WARNING: Ignoring invalid distribution -p (c:\\python310\\lib\\site-packages)\n",
            "WARNING: Ignoring invalid distribution -0p (c:\\python310\\lib\\site-packages)\n",
            "WARNING: Ignoring invalid distribution -ip (c:\\python310\\lib\\site-packages)\n",
            "WARNING: Ignoring invalid distribution - (c:\\python310\\lib\\site-packages)\n",
            "WARNING: Ignoring invalid distribution -p (c:\\python310\\lib\\site-packages)\n",
            "WARNING: Ignoring invalid distribution -1p (c:\\python310\\lib\\site-packages)\n",
            "WARNING: Ignoring invalid distribution -yzmq (c:\\python310\\lib\\site-packages)\n",
            "WARNING: Ignoring invalid distribution -p (c:\\python310\\lib\\site-packages)\n",
            "WARNING: Ignoring invalid distribution -0p (c:\\python310\\lib\\site-packages)\n",
            "WARNING: Ignoring invalid distribution -ip (c:\\python310\\lib\\site-packages)\n",
            "WARNING: Ignoring invalid distribution - (c:\\python310\\lib\\site-packages)\n",
            "\n",
            "[notice] A new release of pip is available: 23.0 -> 23.0.1\n",
            "[notice] To update, run: python.exe -m pip install --upgrade pip\n"
          ]
        },
        {
          "name": "stdout",
          "output_type": "stream",
          "text": [
            "Requirement already satisfied: transformers in c:\\python310\\lib\\site-packages (4.27.4)\n",
            "Requirement already satisfied: tokenizers!=0.11.3,<0.14,>=0.11.1 in c:\\python310\\lib\\site-packages (from transformers) (0.13.2)\n",
            "Requirement already satisfied: numpy>=1.17 in c:\\users\\shan shan\\appdata\\roaming\\python\\python310\\site-packages (from transformers) (1.23.5)\n",
            "Requirement already satisfied: packaging>=20.0 in c:\\python310\\lib\\site-packages (from transformers) (21.3)\n",
            "Requirement already satisfied: filelock in c:\\python310\\lib\\site-packages (from transformers) (3.10.7)\n",
            "Requirement already satisfied: requests in c:\\users\\shan shan\\appdata\\roaming\\python\\python310\\site-packages (from transformers) (2.28.2)\n",
            "Requirement already satisfied: regex!=2019.12.17 in c:\\python310\\lib\\site-packages (from transformers) (2022.10.31)\n",
            "Requirement already satisfied: huggingface-hub<1.0,>=0.11.0 in c:\\python310\\lib\\site-packages (from transformers) (0.13.3)\n",
            "Requirement already satisfied: pyyaml>=5.1 in c:\\users\\shan shan\\appdata\\roaming\\python\\python310\\site-packages (from transformers) (6.0)\n",
            "Requirement already satisfied: tqdm>=4.27 in c:\\python310\\lib\\site-packages (from transformers) (4.64.1)\n",
            "Requirement already satisfied: typing-extensions>=3.7.4.3 in c:\\python310\\lib\\site-packages (from huggingface-hub<1.0,>=0.11.0->transformers) (4.4.0)\n",
            "Requirement already satisfied: pyparsing!=3.0.5,>=2.0.2 in c:\\python310\\lib\\site-packages (from packaging>=20.0->transformers) (3.0.9)\n",
            "Requirement already satisfied: colorama in c:\\users\\shan shan\\appdata\\roaming\\python\\python310\\site-packages (from tqdm>=4.27->transformers) (0.4.5)\n",
            "Requirement already satisfied: certifi>=2017.4.17 in c:\\users\\shan shan\\appdata\\roaming\\python\\python310\\site-packages (from requests->transformers) (2022.12.7)\n",
            "Requirement already satisfied: idna<4,>=2.5 in c:\\users\\shan shan\\appdata\\roaming\\python\\python310\\site-packages (from requests->transformers) (3.4)\n",
            "Requirement already satisfied: charset-normalizer<4,>=2 in c:\\python310\\lib\\site-packages (from requests->transformers) (3.0.1)\n",
            "Requirement already satisfied: urllib3<1.27,>=1.21.1 in c:\\users\\shan shan\\appdata\\roaming\\python\\python310\\site-packages (from requests->transformers) (1.26.14)\n"
          ]
        },
        {
          "name": "stderr",
          "output_type": "stream",
          "text": [
            "WARNING: Ignoring invalid distribution -p (c:\\python310\\lib\\site-packages)\n",
            "WARNING: Ignoring invalid distribution -1p (c:\\python310\\lib\\site-packages)\n",
            "WARNING: Ignoring invalid distribution -yzmq (c:\\python310\\lib\\site-packages)\n",
            "WARNING: Ignoring invalid distribution -p (c:\\python310\\lib\\site-packages)\n",
            "WARNING: Ignoring invalid distribution -0p (c:\\python310\\lib\\site-packages)\n",
            "WARNING: Ignoring invalid distribution -ip (c:\\python310\\lib\\site-packages)\n",
            "WARNING: Ignoring invalid distribution - (c:\\python310\\lib\\site-packages)\n",
            "WARNING: Ignoring invalid distribution -p (c:\\python310\\lib\\site-packages)\n",
            "WARNING: Ignoring invalid distribution -1p (c:\\python310\\lib\\site-packages)\n",
            "WARNING: Ignoring invalid distribution -yzmq (c:\\python310\\lib\\site-packages)\n",
            "WARNING: Ignoring invalid distribution -p (c:\\python310\\lib\\site-packages)\n",
            "WARNING: Ignoring invalid distribution -0p (c:\\python310\\lib\\site-packages)\n",
            "WARNING: Ignoring invalid distribution -ip (c:\\python310\\lib\\site-packages)\n",
            "WARNING: Ignoring invalid distribution - (c:\\python310\\lib\\site-packages)\n",
            "WARNING: Ignoring invalid distribution -p (c:\\python310\\lib\\site-packages)\n",
            "WARNING: Ignoring invalid distribution -1p (c:\\python310\\lib\\site-packages)\n",
            "WARNING: Ignoring invalid distribution -yzmq (c:\\python310\\lib\\site-packages)\n",
            "WARNING: Ignoring invalid distribution -p (c:\\python310\\lib\\site-packages)\n",
            "WARNING: Ignoring invalid distribution -0p (c:\\python310\\lib\\site-packages)\n",
            "WARNING: Ignoring invalid distribution -ip (c:\\python310\\lib\\site-packages)\n",
            "WARNING: Ignoring invalid distribution - (c:\\python310\\lib\\site-packages)\n",
            "WARNING: Ignoring invalid distribution -p (c:\\python310\\lib\\site-packages)\n",
            "WARNING: Ignoring invalid distribution -1p (c:\\python310\\lib\\site-packages)\n",
            "WARNING: Ignoring invalid distribution -yzmq (c:\\python310\\lib\\site-packages)\n",
            "WARNING: Ignoring invalid distribution -p (c:\\python310\\lib\\site-packages)\n",
            "WARNING: Ignoring invalid distribution -0p (c:\\python310\\lib\\site-packages)\n",
            "WARNING: Ignoring invalid distribution -ip (c:\\python310\\lib\\site-packages)\n",
            "WARNING: Ignoring invalid distribution - (c:\\python310\\lib\\site-packages)\n",
            "\n",
            "[notice] A new release of pip is available: 23.0 -> 23.0.1\n",
            "[notice] To update, run: python.exe -m pip install --upgrade pip\n"
          ]
        },
        {
          "name": "stdout",
          "output_type": "stream",
          "text": [
            "Requirement already satisfied: Levenshtein in c:\\python310\\lib\\site-packages (0.20.9)\n",
            "Requirement already satisfied: rapidfuzz<3.0.0,>=2.3.0 in c:\\python310\\lib\\site-packages (from Levenshtein) (2.15.0)\n"
          ]
        },
        {
          "name": "stderr",
          "output_type": "stream",
          "text": [
            "WARNING: Ignoring invalid distribution -p (c:\\python310\\lib\\site-packages)\n",
            "WARNING: Ignoring invalid distribution -1p (c:\\python310\\lib\\site-packages)\n",
            "WARNING: Ignoring invalid distribution -yzmq (c:\\python310\\lib\\site-packages)\n",
            "WARNING: Ignoring invalid distribution -p (c:\\python310\\lib\\site-packages)\n",
            "WARNING: Ignoring invalid distribution -0p (c:\\python310\\lib\\site-packages)\n",
            "WARNING: Ignoring invalid distribution -ip (c:\\python310\\lib\\site-packages)\n",
            "WARNING: Ignoring invalid distribution - (c:\\python310\\lib\\site-packages)\n",
            "WARNING: Ignoring invalid distribution -p (c:\\python310\\lib\\site-packages)\n",
            "WARNING: Ignoring invalid distribution -1p (c:\\python310\\lib\\site-packages)\n",
            "WARNING: Ignoring invalid distribution -yzmq (c:\\python310\\lib\\site-packages)\n",
            "WARNING: Ignoring invalid distribution -p (c:\\python310\\lib\\site-packages)\n",
            "WARNING: Ignoring invalid distribution -0p (c:\\python310\\lib\\site-packages)\n",
            "WARNING: Ignoring invalid distribution -ip (c:\\python310\\lib\\site-packages)\n",
            "WARNING: Ignoring invalid distribution - (c:\\python310\\lib\\site-packages)\n",
            "WARNING: Ignoring invalid distribution -p (c:\\python310\\lib\\site-packages)\n",
            "WARNING: Ignoring invalid distribution -1p (c:\\python310\\lib\\site-packages)\n",
            "WARNING: Ignoring invalid distribution -yzmq (c:\\python310\\lib\\site-packages)\n",
            "WARNING: Ignoring invalid distribution -p (c:\\python310\\lib\\site-packages)\n",
            "WARNING: Ignoring invalid distribution -0p (c:\\python310\\lib\\site-packages)\n",
            "WARNING: Ignoring invalid distribution -ip (c:\\python310\\lib\\site-packages)\n",
            "WARNING: Ignoring invalid distribution - (c:\\python310\\lib\\site-packages)\n",
            "WARNING: Ignoring invalid distribution -p (c:\\python310\\lib\\site-packages)\n",
            "WARNING: Ignoring invalid distribution -1p (c:\\python310\\lib\\site-packages)\n",
            "WARNING: Ignoring invalid distribution -yzmq (c:\\python310\\lib\\site-packages)\n",
            "WARNING: Ignoring invalid distribution -p (c:\\python310\\lib\\site-packages)\n",
            "WARNING: Ignoring invalid distribution -0p (c:\\python310\\lib\\site-packages)\n",
            "WARNING: Ignoring invalid distribution -ip (c:\\python310\\lib\\site-packages)\n",
            "WARNING: Ignoring invalid distribution - (c:\\python310\\lib\\site-packages)\n",
            "\n",
            "[notice] A new release of pip is available: 23.0 -> 23.0.1\n",
            "[notice] To update, run: python.exe -m pip install --upgrade pip\n"
          ]
        },
        {
          "name": "stdout",
          "output_type": "stream",
          "text": [
            "Requirement already satisfied: datasets in c:\\python310\\lib\\site-packages (2.11.0)\n",
            "Requirement already satisfied: packaging in c:\\python310\\lib\\site-packages (from datasets) (21.3)\n",
            "Requirement already satisfied: multiprocess in c:\\python310\\lib\\site-packages (from datasets) (0.70.14)\n",
            "Requirement already satisfied: huggingface-hub<1.0.0,>=0.11.0 in c:\\python310\\lib\\site-packages (from datasets) (0.13.3)\n",
            "Requirement already satisfied: fsspec[http]>=2021.11.1 in c:\\python310\\lib\\site-packages (from datasets) (2023.3.0)\n",
            "Requirement already satisfied: tqdm>=4.62.1 in c:\\python310\\lib\\site-packages (from datasets) (4.64.1)\n",
            "Requirement already satisfied: xxhash in c:\\python310\\lib\\site-packages (from datasets) (3.2.0)\n",
            "Requirement already satisfied: aiohttp in c:\\python310\\lib\\site-packages (from datasets) (3.8.4)\n",
            "Requirement already satisfied: responses<0.19 in c:\\python310\\lib\\site-packages (from datasets) (0.18.0)\n",
            "Requirement already satisfied: numpy>=1.17 in c:\\users\\shan shan\\appdata\\roaming\\python\\python310\\site-packages (from datasets) (1.23.5)\n",
            "Requirement already satisfied: pyyaml>=5.1 in c:\\users\\shan shan\\appdata\\roaming\\python\\python310\\site-packages (from datasets) (6.0)\n",
            "Requirement already satisfied: pyarrow>=8.0.0 in c:\\python310\\lib\\site-packages (from datasets) (11.0.0)\n",
            "Requirement already satisfied: requests>=2.19.0 in c:\\users\\shan shan\\appdata\\roaming\\python\\python310\\site-packages (from datasets) (2.28.2)\n",
            "Requirement already satisfied: pandas in c:\\python310\\lib\\site-packages (from datasets) (1.5.3)\n",
            "Requirement already satisfied: dill<0.3.7,>=0.3.0 in c:\\python310\\lib\\site-packages (from datasets) (0.3.6)\n",
            "Requirement already satisfied: attrs>=17.3.0 in c:\\users\\shan shan\\appdata\\roaming\\python\\python310\\site-packages (from aiohttp->datasets) (22.1.0)\n",
            "Requirement already satisfied: yarl<2.0,>=1.0 in c:\\python310\\lib\\site-packages (from aiohttp->datasets) (1.8.2)\n",
            "Requirement already satisfied: async-timeout<5.0,>=4.0.0a3 in c:\\python310\\lib\\site-packages (from aiohttp->datasets) (4.0.2)\n",
            "Requirement already satisfied: aiosignal>=1.1.2 in c:\\python310\\lib\\site-packages (from aiohttp->datasets) (1.3.1)\n",
            "Requirement already satisfied: frozenlist>=1.1.1 in c:\\python310\\lib\\site-packages (from aiohttp->datasets) (1.3.3)\n",
            "Requirement already satisfied: multidict<7.0,>=4.5 in c:\\python310\\lib\\site-packages (from aiohttp->datasets) (6.0.4)\n",
            "Requirement already satisfied: charset-normalizer<4.0,>=2.0 in c:\\python310\\lib\\site-packages (from aiohttp->datasets) (3.0.1)\n",
            "Requirement already satisfied: filelock in c:\\python310\\lib\\site-packages (from huggingface-hub<1.0.0,>=0.11.0->datasets) (3.10.7)\n",
            "Requirement already satisfied: typing-extensions>=3.7.4.3 in c:\\python310\\lib\\site-packages (from huggingface-hub<1.0.0,>=0.11.0->datasets) (4.4.0)\n",
            "Requirement already satisfied: pyparsing!=3.0.5,>=2.0.2 in c:\\python310\\lib\\site-packages (from packaging->datasets) (3.0.9)\n",
            "Requirement already satisfied: urllib3<1.27,>=1.21.1 in c:\\users\\shan shan\\appdata\\roaming\\python\\python310\\site-packages (from requests>=2.19.0->datasets) (1.26.14)\n",
            "Requirement already satisfied: certifi>=2017.4.17 in c:\\users\\shan shan\\appdata\\roaming\\python\\python310\\site-packages (from requests>=2.19.0->datasets) (2022.12.7)\n",
            "Requirement already satisfied: idna<4,>=2.5 in c:\\users\\shan shan\\appdata\\roaming\\python\\python310\\site-packages (from requests>=2.19.0->datasets) (3.4)\n",
            "Requirement already satisfied: colorama in c:\\users\\shan shan\\appdata\\roaming\\python\\python310\\site-packages (from tqdm>=4.62.1->datasets) (0.4.5)\n",
            "Requirement already satisfied: python-dateutil>=2.8.1 in c:\\python310\\lib\\site-packages (from pandas->datasets) (2.8.2)\n",
            "Requirement already satisfied: pytz>=2020.1 in c:\\python310\\lib\\site-packages (from pandas->datasets) (2022.7.1)\n",
            "Requirement already satisfied: six>=1.5 in c:\\python310\\lib\\site-packages (from python-dateutil>=2.8.1->pandas->datasets) (1.16.0)\n"
          ]
        },
        {
          "name": "stderr",
          "output_type": "stream",
          "text": [
            "WARNING: Ignoring invalid distribution -p (c:\\python310\\lib\\site-packages)\n",
            "WARNING: Ignoring invalid distribution -1p (c:\\python310\\lib\\site-packages)\n",
            "WARNING: Ignoring invalid distribution -yzmq (c:\\python310\\lib\\site-packages)\n",
            "WARNING: Ignoring invalid distribution -p (c:\\python310\\lib\\site-packages)\n",
            "WARNING: Ignoring invalid distribution -0p (c:\\python310\\lib\\site-packages)\n",
            "WARNING: Ignoring invalid distribution -ip (c:\\python310\\lib\\site-packages)\n",
            "WARNING: Ignoring invalid distribution - (c:\\python310\\lib\\site-packages)\n",
            "WARNING: Ignoring invalid distribution -p (c:\\python310\\lib\\site-packages)\n",
            "WARNING: Ignoring invalid distribution -1p (c:\\python310\\lib\\site-packages)\n",
            "WARNING: Ignoring invalid distribution -yzmq (c:\\python310\\lib\\site-packages)\n",
            "WARNING: Ignoring invalid distribution -p (c:\\python310\\lib\\site-packages)\n",
            "WARNING: Ignoring invalid distribution -0p (c:\\python310\\lib\\site-packages)\n",
            "WARNING: Ignoring invalid distribution -ip (c:\\python310\\lib\\site-packages)\n",
            "WARNING: Ignoring invalid distribution - (c:\\python310\\lib\\site-packages)\n",
            "WARNING: Ignoring invalid distribution -p (c:\\python310\\lib\\site-packages)\n",
            "WARNING: Ignoring invalid distribution -1p (c:\\python310\\lib\\site-packages)\n",
            "WARNING: Ignoring invalid distribution -yzmq (c:\\python310\\lib\\site-packages)\n",
            "WARNING: Ignoring invalid distribution -p (c:\\python310\\lib\\site-packages)\n",
            "WARNING: Ignoring invalid distribution -0p (c:\\python310\\lib\\site-packages)\n",
            "WARNING: Ignoring invalid distribution -ip (c:\\python310\\lib\\site-packages)\n",
            "WARNING: Ignoring invalid distribution - (c:\\python310\\lib\\site-packages)\n",
            "WARNING: Ignoring invalid distribution -p (c:\\python310\\lib\\site-packages)\n",
            "WARNING: Ignoring invalid distribution -1p (c:\\python310\\lib\\site-packages)\n",
            "WARNING: Ignoring invalid distribution -yzmq (c:\\python310\\lib\\site-packages)\n",
            "WARNING: Ignoring invalid distribution -p (c:\\python310\\lib\\site-packages)\n",
            "WARNING: Ignoring invalid distribution -0p (c:\\python310\\lib\\site-packages)\n",
            "WARNING: Ignoring invalid distribution -ip (c:\\python310\\lib\\site-packages)\n",
            "WARNING: Ignoring invalid distribution - (c:\\python310\\lib\\site-packages)\n",
            "\n",
            "[notice] A new release of pip is available: 23.0 -> 23.0.1\n",
            "[notice] To update, run: python.exe -m pip install --upgrade pip\n"
          ]
        },
        {
          "name": "stdout",
          "output_type": "stream",
          "text": [
            "Requirement already satisfied: tensorflow in c:\\users\\shan shan\\appdata\\roaming\\python\\python310\\site-packages (2.12.0)\n",
            "Requirement already satisfied: tensorflow-intel==2.12.0 in c:\\users\\shan shan\\appdata\\roaming\\python\\python310\\site-packages (from tensorflow) (2.12.0)\n",
            "Requirement already satisfied: setuptools in c:\\python310\\lib\\site-packages (from tensorflow-intel==2.12.0->tensorflow) (63.2.0)\n",
            "Requirement already satisfied: termcolor>=1.1.0 in c:\\python310\\lib\\site-packages (from tensorflow-intel==2.12.0->tensorflow) (2.2.0)\n",
            "Requirement already satisfied: gast<=0.4.0,>=0.2.1 in c:\\users\\shan shan\\appdata\\roaming\\python\\python310\\site-packages (from tensorflow-intel==2.12.0->tensorflow) (0.4.0)\n",
            "Requirement already satisfied: protobuf!=4.21.0,!=4.21.1,!=4.21.2,!=4.21.3,!=4.21.4,!=4.21.5,<5.0.0dev,>=3.20.3 in c:\\python310\\lib\\site-packages (from tensorflow-intel==2.12.0->tensorflow) (4.21.12)\n",
            "Requirement already satisfied: h5py>=2.9.0 in c:\\users\\shan shan\\appdata\\roaming\\python\\python310\\site-packages (from tensorflow-intel==2.12.0->tensorflow) (3.8.0)\n",
            "Requirement already satisfied: typing-extensions>=3.6.6 in c:\\python310\\lib\\site-packages (from tensorflow-intel==2.12.0->tensorflow) (4.4.0)\n",
            "Requirement already satisfied: opt-einsum>=2.3.2 in c:\\users\\shan shan\\appdata\\roaming\\python\\python310\\site-packages (from tensorflow-intel==2.12.0->tensorflow) (3.3.0)\n",
            "Requirement already satisfied: tensorflow-io-gcs-filesystem>=0.23.1 in c:\\python310\\lib\\site-packages (from tensorflow-intel==2.12.0->tensorflow) (0.31.0)\n",
            "Requirement already satisfied: six>=1.12.0 in c:\\python310\\lib\\site-packages (from tensorflow-intel==2.12.0->tensorflow) (1.16.0)\n",
            "Requirement already satisfied: astunparse>=1.6.0 in c:\\users\\shan shan\\appdata\\roaming\\python\\python310\\site-packages (from tensorflow-intel==2.12.0->tensorflow) (1.6.3)\n",
            "Requirement already satisfied: flatbuffers>=2.0 in c:\\python310\\lib\\site-packages (from tensorflow-intel==2.12.0->tensorflow) (23.3.3)\n",
            "Requirement already satisfied: libclang>=13.0.0 in c:\\python310\\lib\\site-packages (from tensorflow-intel==2.12.0->tensorflow) (16.0.0)\n",
            "Requirement already satisfied: grpcio<2.0,>=1.24.3 in c:\\users\\shan shan\\appdata\\roaming\\python\\python310\\site-packages (from tensorflow-intel==2.12.0->tensorflow) (1.53.0)\n",
            "Requirement already satisfied: absl-py>=1.0.0 in c:\\users\\shan shan\\appdata\\roaming\\python\\python310\\site-packages (from tensorflow-intel==2.12.0->tensorflow) (1.4.0)\n",
            "Requirement already satisfied: packaging in c:\\python310\\lib\\site-packages (from tensorflow-intel==2.12.0->tensorflow) (21.3)\n",
            "Requirement already satisfied: jax>=0.3.15 in c:\\users\\shan shan\\appdata\\roaming\\python\\python310\\site-packages (from tensorflow-intel==2.12.0->tensorflow) (0.4.8)\n",
            "Requirement already satisfied: google-pasta>=0.1.1 in c:\\users\\shan shan\\appdata\\roaming\\python\\python310\\site-packages (from tensorflow-intel==2.12.0->tensorflow) (0.2.0)\n",
            "Requirement already satisfied: numpy<1.24,>=1.22 in c:\\users\\shan shan\\appdata\\roaming\\python\\python310\\site-packages (from tensorflow-intel==2.12.0->tensorflow) (1.23.5)\n",
            "Requirement already satisfied: tensorboard<2.13,>=2.12 in c:\\users\\shan shan\\appdata\\roaming\\python\\python310\\site-packages (from tensorflow-intel==2.12.0->tensorflow) (2.12.1)\n",
            "Requirement already satisfied: wrapt<1.15,>=1.11.0 in c:\\python310\\lib\\site-packages (from tensorflow-intel==2.12.0->tensorflow) (1.14.1)\n",
            "Requirement already satisfied: tensorflow-estimator<2.13,>=2.12.0 in c:\\python310\\lib\\site-packages (from tensorflow-intel==2.12.0->tensorflow) (2.12.0)\n",
            "Requirement already satisfied: keras<2.13,>=2.12.0 in c:\\python310\\lib\\site-packages (from tensorflow-intel==2.12.0->tensorflow) (2.12.0)\n",
            "Requirement already satisfied: wheel<1.0,>=0.23.0 in c:\\python310\\lib\\site-packages (from astunparse>=1.6.0->tensorflow-intel==2.12.0->tensorflow) (0.40.0)\n",
            "Requirement already satisfied: scipy>=1.7 in c:\\python310\\lib\\site-packages (from jax>=0.3.15->tensorflow-intel==2.12.0->tensorflow) (1.10.0)\n",
            "Requirement already satisfied: ml-dtypes>=0.0.3 in c:\\users\\shan shan\\appdata\\roaming\\python\\python310\\site-packages (from jax>=0.3.15->tensorflow-intel==2.12.0->tensorflow) (0.0.4)\n",
            "Requirement already satisfied: markdown>=2.6.8 in c:\\users\\shan shan\\appdata\\roaming\\python\\python310\\site-packages (from tensorboard<2.13,>=2.12->tensorflow-intel==2.12.0->tensorflow) (3.4.3)\n",
            "Requirement already satisfied: google-auth-oauthlib<1.1,>=0.5 in c:\\users\\shan shan\\appdata\\roaming\\python\\python310\\site-packages (from tensorboard<2.13,>=2.12->tensorflow-intel==2.12.0->tensorflow) (1.0.0)\n",
            "Requirement already satisfied: google-auth<3,>=1.6.3 in c:\\users\\shan shan\\appdata\\roaming\\python\\python310\\site-packages (from tensorboard<2.13,>=2.12->tensorflow-intel==2.12.0->tensorflow) (2.17.1)\n",
            "Requirement already satisfied: requests<3,>=2.21.0 in c:\\users\\shan shan\\appdata\\roaming\\python\\python310\\site-packages (from tensorboard<2.13,>=2.12->tensorflow-intel==2.12.0->tensorflow) (2.28.2)\n",
            "Requirement already satisfied: tensorboard-plugin-wit>=1.6.0 in c:\\python310\\lib\\site-packages (from tensorboard<2.13,>=2.12->tensorflow-intel==2.12.0->tensorflow) (1.8.1)\n",
            "Requirement already satisfied: werkzeug>=1.0.1 in c:\\python310\\lib\\site-packages (from tensorboard<2.13,>=2.12->tensorflow-intel==2.12.0->tensorflow) (2.2.3)\n",
            "Requirement already satisfied: tensorboard-data-server<0.8.0,>=0.7.0 in c:\\python310\\lib\\site-packages (from tensorboard<2.13,>=2.12->tensorflow-intel==2.12.0->tensorflow) (0.7.0)\n",
            "Requirement already satisfied: pyparsing!=3.0.5,>=2.0.2 in c:\\python310\\lib\\site-packages (from packaging->tensorflow-intel==2.12.0->tensorflow) (3.0.9)\n",
            "Requirement already satisfied: pyasn1-modules>=0.2.1 in c:\\python310\\lib\\site-packages (from google-auth<3,>=1.6.3->tensorboard<2.13,>=2.12->tensorflow-intel==2.12.0->tensorflow) (0.2.8)\n",
            "Requirement already satisfied: rsa<5,>=3.1.4 in c:\\python310\\lib\\site-packages (from google-auth<3,>=1.6.3->tensorboard<2.13,>=2.12->tensorflow-intel==2.12.0->tensorflow) (4.9)\n",
            "Requirement already satisfied: cachetools<6.0,>=2.0.0 in c:\\users\\shan shan\\appdata\\roaming\\python\\python310\\site-packages (from google-auth<3,>=1.6.3->tensorboard<2.13,>=2.12->tensorflow-intel==2.12.0->tensorflow) (5.3.0)\n",
            "Requirement already satisfied: requests-oauthlib>=0.7.0 in c:\\users\\shan shan\\appdata\\roaming\\python\\python310\\site-packages (from google-auth-oauthlib<1.1,>=0.5->tensorboard<2.13,>=2.12->tensorflow-intel==2.12.0->tensorflow) (1.3.1)\n",
            "Requirement already satisfied: certifi>=2017.4.17 in c:\\users\\shan shan\\appdata\\roaming\\python\\python310\\site-packages (from requests<3,>=2.21.0->tensorboard<2.13,>=2.12->tensorflow-intel==2.12.0->tensorflow) (2022.12.7)\n",
            "Requirement already satisfied: charset-normalizer<4,>=2 in c:\\python310\\lib\\site-packages (from requests<3,>=2.21.0->tensorboard<2.13,>=2.12->tensorflow-intel==2.12.0->tensorflow) (3.0.1)\n",
            "Requirement already satisfied: idna<4,>=2.5 in c:\\users\\shan shan\\appdata\\roaming\\python\\python310\\site-packages (from requests<3,>=2.21.0->tensorboard<2.13,>=2.12->tensorflow-intel==2.12.0->tensorflow) (3.4)\n",
            "Requirement already satisfied: urllib3<1.27,>=1.21.1 in c:\\users\\shan shan\\appdata\\roaming\\python\\python310\\site-packages (from requests<3,>=2.21.0->tensorboard<2.13,>=2.12->tensorflow-intel==2.12.0->tensorflow) (1.26.14)\n",
            "Requirement already satisfied: MarkupSafe>=2.1.1 in c:\\python310\\lib\\site-packages (from werkzeug>=1.0.1->tensorboard<2.13,>=2.12->tensorflow-intel==2.12.0->tensorflow) (2.1.1)\n",
            "Requirement already satisfied: pyasn1<0.5.0,>=0.4.6 in c:\\python310\\lib\\site-packages (from pyasn1-modules>=0.2.1->google-auth<3,>=1.6.3->tensorboard<2.13,>=2.12->tensorflow-intel==2.12.0->tensorflow) (0.4.8)\n",
            "Requirement already satisfied: oauthlib>=3.0.0 in c:\\python310\\lib\\site-packages (from requests-oauthlib>=0.7.0->google-auth-oauthlib<1.1,>=0.5->tensorboard<2.13,>=2.12->tensorflow-intel==2.12.0->tensorflow) (3.2.2)\n"
          ]
        },
        {
          "name": "stderr",
          "output_type": "stream",
          "text": [
            "WARNING: Ignoring invalid distribution -p (c:\\python310\\lib\\site-packages)\n",
            "WARNING: Ignoring invalid distribution -1p (c:\\python310\\lib\\site-packages)\n",
            "WARNING: Ignoring invalid distribution -yzmq (c:\\python310\\lib\\site-packages)\n",
            "WARNING: Ignoring invalid distribution -p (c:\\python310\\lib\\site-packages)\n",
            "WARNING: Ignoring invalid distribution -0p (c:\\python310\\lib\\site-packages)\n",
            "WARNING: Ignoring invalid distribution -ip (c:\\python310\\lib\\site-packages)\n",
            "WARNING: Ignoring invalid distribution - (c:\\python310\\lib\\site-packages)\n",
            "WARNING: Ignoring invalid distribution -p (c:\\python310\\lib\\site-packages)\n",
            "WARNING: Ignoring invalid distribution -1p (c:\\python310\\lib\\site-packages)\n",
            "WARNING: Ignoring invalid distribution -yzmq (c:\\python310\\lib\\site-packages)\n",
            "WARNING: Ignoring invalid distribution -p (c:\\python310\\lib\\site-packages)\n",
            "WARNING: Ignoring invalid distribution -0p (c:\\python310\\lib\\site-packages)\n",
            "WARNING: Ignoring invalid distribution -ip (c:\\python310\\lib\\site-packages)\n",
            "WARNING: Ignoring invalid distribution - (c:\\python310\\lib\\site-packages)\n",
            "WARNING: Ignoring invalid distribution -p (c:\\python310\\lib\\site-packages)\n",
            "WARNING: Ignoring invalid distribution -1p (c:\\python310\\lib\\site-packages)\n",
            "WARNING: Ignoring invalid distribution -yzmq (c:\\python310\\lib\\site-packages)\n",
            "WARNING: Ignoring invalid distribution -p (c:\\python310\\lib\\site-packages)\n",
            "WARNING: Ignoring invalid distribution -0p (c:\\python310\\lib\\site-packages)\n",
            "WARNING: Ignoring invalid distribution -ip (c:\\python310\\lib\\site-packages)\n",
            "WARNING: Ignoring invalid distribution - (c:\\python310\\lib\\site-packages)\n",
            "WARNING: Ignoring invalid distribution -p (c:\\python310\\lib\\site-packages)\n",
            "WARNING: Ignoring invalid distribution -1p (c:\\python310\\lib\\site-packages)\n",
            "WARNING: Ignoring invalid distribution -yzmq (c:\\python310\\lib\\site-packages)\n",
            "WARNING: Ignoring invalid distribution -p (c:\\python310\\lib\\site-packages)\n",
            "WARNING: Ignoring invalid distribution -0p (c:\\python310\\lib\\site-packages)\n",
            "WARNING: Ignoring invalid distribution -ip (c:\\python310\\lib\\site-packages)\n",
            "WARNING: Ignoring invalid distribution - (c:\\python310\\lib\\site-packages)\n",
            "\n",
            "[notice] A new release of pip is available: 23.0 -> 23.0.1\n",
            "[notice] To update, run: python.exe -m pip install --upgrade pip\n"
          ]
        },
        {
          "name": "stdout",
          "output_type": "stream",
          "text": [
            "Requirement already satisfied: keras in c:\\python310\\lib\\site-packages (2.12.0)\n"
          ]
        },
        {
          "name": "stderr",
          "output_type": "stream",
          "text": [
            "WARNING: Ignoring invalid distribution -p (c:\\python310\\lib\\site-packages)\n",
            "WARNING: Ignoring invalid distribution -1p (c:\\python310\\lib\\site-packages)\n",
            "WARNING: Ignoring invalid distribution -yzmq (c:\\python310\\lib\\site-packages)\n",
            "WARNING: Ignoring invalid distribution -p (c:\\python310\\lib\\site-packages)\n",
            "WARNING: Ignoring invalid distribution -0p (c:\\python310\\lib\\site-packages)\n",
            "WARNING: Ignoring invalid distribution -ip (c:\\python310\\lib\\site-packages)\n",
            "WARNING: Ignoring invalid distribution - (c:\\python310\\lib\\site-packages)\n",
            "WARNING: Ignoring invalid distribution -p (c:\\python310\\lib\\site-packages)\n",
            "WARNING: Ignoring invalid distribution -1p (c:\\python310\\lib\\site-packages)\n",
            "WARNING: Ignoring invalid distribution -yzmq (c:\\python310\\lib\\site-packages)\n",
            "WARNING: Ignoring invalid distribution -p (c:\\python310\\lib\\site-packages)\n",
            "WARNING: Ignoring invalid distribution -0p (c:\\python310\\lib\\site-packages)\n",
            "WARNING: Ignoring invalid distribution -ip (c:\\python310\\lib\\site-packages)\n",
            "WARNING: Ignoring invalid distribution - (c:\\python310\\lib\\site-packages)\n",
            "WARNING: Ignoring invalid distribution -p (c:\\python310\\lib\\site-packages)\n",
            "WARNING: Ignoring invalid distribution -1p (c:\\python310\\lib\\site-packages)\n",
            "WARNING: Ignoring invalid distribution -yzmq (c:\\python310\\lib\\site-packages)\n",
            "WARNING: Ignoring invalid distribution -p (c:\\python310\\lib\\site-packages)\n",
            "WARNING: Ignoring invalid distribution -0p (c:\\python310\\lib\\site-packages)\n",
            "WARNING: Ignoring invalid distribution -ip (c:\\python310\\lib\\site-packages)\n",
            "WARNING: Ignoring invalid distribution - (c:\\python310\\lib\\site-packages)\n",
            "WARNING: Ignoring invalid distribution -p (c:\\python310\\lib\\site-packages)\n",
            "WARNING: Ignoring invalid distribution -1p (c:\\python310\\lib\\site-packages)\n",
            "WARNING: Ignoring invalid distribution -yzmq (c:\\python310\\lib\\site-packages)\n",
            "WARNING: Ignoring invalid distribution -p (c:\\python310\\lib\\site-packages)\n",
            "WARNING: Ignoring invalid distribution -0p (c:\\python310\\lib\\site-packages)\n",
            "WARNING: Ignoring invalid distribution -ip (c:\\python310\\lib\\site-packages)\n",
            "WARNING: Ignoring invalid distribution - (c:\\python310\\lib\\site-packages)\n",
            "\n",
            "[notice] A new release of pip is available: 23.0 -> 23.0.1\n",
            "[notice] To update, run: python.exe -m pip install --upgrade pip\n"
          ]
        },
        {
          "name": "stdout",
          "output_type": "stream",
          "text": [
            "Requirement already satisfied: xgboost in c:\\python310\\lib\\site-packages (1.7.5)\n",
            "Requirement already satisfied: scipy in c:\\python310\\lib\\site-packages (from xgboost) (1.10.0)\n",
            "Requirement already satisfied: numpy in c:\\users\\shan shan\\appdata\\roaming\\python\\python310\\site-packages (from xgboost) (1.23.5)\n"
          ]
        },
        {
          "name": "stderr",
          "output_type": "stream",
          "text": [
            "WARNING: Ignoring invalid distribution -p (c:\\python310\\lib\\site-packages)\n",
            "WARNING: Ignoring invalid distribution -1p (c:\\python310\\lib\\site-packages)\n",
            "WARNING: Ignoring invalid distribution -yzmq (c:\\python310\\lib\\site-packages)\n",
            "WARNING: Ignoring invalid distribution -p (c:\\python310\\lib\\site-packages)\n",
            "WARNING: Ignoring invalid distribution -0p (c:\\python310\\lib\\site-packages)\n",
            "WARNING: Ignoring invalid distribution -ip (c:\\python310\\lib\\site-packages)\n",
            "WARNING: Ignoring invalid distribution - (c:\\python310\\lib\\site-packages)\n",
            "WARNING: Ignoring invalid distribution -p (c:\\python310\\lib\\site-packages)\n",
            "WARNING: Ignoring invalid distribution -1p (c:\\python310\\lib\\site-packages)\n",
            "WARNING: Ignoring invalid distribution -yzmq (c:\\python310\\lib\\site-packages)\n",
            "WARNING: Ignoring invalid distribution -p (c:\\python310\\lib\\site-packages)\n",
            "WARNING: Ignoring invalid distribution -0p (c:\\python310\\lib\\site-packages)\n",
            "WARNING: Ignoring invalid distribution -ip (c:\\python310\\lib\\site-packages)\n",
            "WARNING: Ignoring invalid distribution - (c:\\python310\\lib\\site-packages)\n",
            "WARNING: Ignoring invalid distribution -p (c:\\python310\\lib\\site-packages)\n",
            "WARNING: Ignoring invalid distribution -1p (c:\\python310\\lib\\site-packages)\n",
            "WARNING: Ignoring invalid distribution -yzmq (c:\\python310\\lib\\site-packages)\n",
            "WARNING: Ignoring invalid distribution -p (c:\\python310\\lib\\site-packages)\n",
            "WARNING: Ignoring invalid distribution -0p (c:\\python310\\lib\\site-packages)\n",
            "WARNING: Ignoring invalid distribution -ip (c:\\python310\\lib\\site-packages)\n",
            "WARNING: Ignoring invalid distribution - (c:\\python310\\lib\\site-packages)\n",
            "WARNING: Ignoring invalid distribution -p (c:\\python310\\lib\\site-packages)\n",
            "WARNING: Ignoring invalid distribution -1p (c:\\python310\\lib\\site-packages)\n",
            "WARNING: Ignoring invalid distribution -yzmq (c:\\python310\\lib\\site-packages)\n",
            "WARNING: Ignoring invalid distribution -p (c:\\python310\\lib\\site-packages)\n",
            "WARNING: Ignoring invalid distribution -0p (c:\\python310\\lib\\site-packages)\n",
            "WARNING: Ignoring invalid distribution -ip (c:\\python310\\lib\\site-packages)\n",
            "WARNING: Ignoring invalid distribution - (c:\\python310\\lib\\site-packages)\n",
            "\n",
            "[notice] A new release of pip is available: 23.0 -> 23.0.1\n",
            "[notice] To update, run: python.exe -m pip install --upgrade pip\n"
          ]
        }
      ],
      "source": [
        "# Install relevant modules\n",
        "!pip install demoji\n",
        "!pip install transformers\n",
        "!pip install Levenshtein\n",
        "!pip install datasets\n",
        "!pip install tensorflow\n",
        "!pip install keras\n",
        "!pip install xgboost\n",
        "# !pip install ..."
      ]
    },
    {
      "cell_type": "code",
      "execution_count": 2,
      "metadata": {
        "colab": {
          "base_uri": "https://localhost:8080/"
        },
        "id": "Ej6fxqVGEP3e",
        "outputId": "b0f0812a-2637-481c-fd21-acd369a1acfe"
      },
      "outputs": [
        {
          "name": "stderr",
          "output_type": "stream",
          "text": [
            "[nltk_data] Downloading package omw-1.4 to C:\\Users\\Shan\n",
            "[nltk_data]     Shan\\AppData\\Roaming\\nltk_data...\n",
            "[nltk_data]   Package omw-1.4 is already up-to-date!\n",
            "[nltk_data] Downloading package wordnet to C:\\Users\\Shan\n",
            "[nltk_data]     Shan\\AppData\\Roaming\\nltk_data...\n",
            "[nltk_data]   Package wordnet is already up-to-date!\n",
            "[nltk_data] Downloading package punkt to C:\\Users\\Shan\n",
            "[nltk_data]     Shan\\AppData\\Roaming\\nltk_data...\n",
            "[nltk_data]   Package punkt is already up-to-date!\n",
            "[nltk_data] Downloading package stopwords to C:\\Users\\Shan\n",
            "[nltk_data]     Shan\\AppData\\Roaming\\nltk_data...\n",
            "[nltk_data]   Package stopwords is already up-to-date!\n"
          ]
        }
      ],
      "source": [
        "#Loading Libraries\n",
        "#For Data Exploration\n",
        "import numpy as np\n",
        "import pandas as pd\n",
        "import matplotlib.pyplot as plt\n",
        "import seaborn as sns\n",
        "import plotly.express as px\n",
        "import torch\n",
        "from wordcloud import WordCloud\n",
        "import re\n",
        "import demoji\n",
        "import pyarrow as pa\n",
        "\n",
        "#For Word2Vec\n",
        "from collections import defaultdict  # For word frequency\n",
        "from time import time\n",
        "import gensim # install this package \n",
        "import cython # install this package for multi-core processing\n",
        "from Levenshtein import ratio as lev_ratio\n",
        "import multiprocessing\n",
        "from gensim.models import Word2Vec, FastText\n",
        "from gensim.models.phrases import Phrases, Phraser\n",
        "import gensim.downloader as api\n",
        "import logging  # Setting up the loggings to monitor gensim\n",
        "logging.basicConfig(format=\"%(levelname)s - %(asctime)s: %(message)s\", datefmt= '%H:%M:%S', level=logging.INFO)\n",
        "\n",
        "# TF-IDF\n",
        "from sklearn.feature_extraction.text import TfidfVectorizer, CountVectorizer,TfidfTransformer\n",
        "\n",
        "#For NLP\n",
        "import nltk\n",
        "nltk.download('omw-1.4')\n",
        "nltk.download('wordnet')\n",
        "nltk.download('punkt')\n",
        "nltk.download('stopwords')\n",
        "from nltk.corpus import stopwords\n",
        "from nltk.tokenize import word_tokenize\n",
        "from nltk.stem import WordNetLemmatizer\n",
        "\n",
        "#Transformers\n",
        "from transformers import BertTokenizerFast\n",
        "from transformers import AutoModelForSequenceClassification\n",
        "from transformers import RobertaTokenizerFast\n",
        "from transformers import RobertaForSequenceClassification\n",
        "from transformers import EvalPrediction\n",
        "from transformers import TrainingArguments, Trainer, TFTrainer\n",
        "from torch.utils.data import DataLoader, Dataset\n",
        "\n",
        "#For Resampling\n",
        "from imblearn.over_sampling import RandomOverSampler\n",
        "\n",
        "#For Models\n",
        "from sklearn.linear_model import LogisticRegression\n",
        "from sklearn.naive_bayes import MultinomialNB\n",
        "from sklearn.ensemble import RandomForestClassifier\n",
        "from sklearn.ensemble import AdaBoostClassifier\n",
        "from sklearn.ensemble import GradientBoostingClassifier\n",
        "from xgboost import XGBClassifier\n",
        "from sklearn.model_selection import RandomizedSearchCV\n",
        "from sklearn.model_selection import GridSearchCV\n",
        "from sklearn.decomposition import TruncatedSVD\n",
        "\n",
        "#RNN\n",
        "from keras.models import Sequential\n",
        "from keras.layers import Embedding, LSTM, Dense\n",
        "import tensorflow as tf\n",
        "import keras\n",
        "import scipy\n",
        "from scipy.sparse import csr_matrix\n",
        "from sklearn.naive_bayes import GaussianNB\n",
        "from sklearn import metrics\n",
        "\n",
        "# LSTM\n",
        "from datasets import Dataset\n",
        "from tensorflow.keras.preprocessing.text import Tokenizer\n",
        "from tensorflow.keras.preprocessing.sequence import pad_sequences\n",
        "import tensorflow.keras.layers as layers\n",
        "from tensorflow.keras.losses import SparseCategoricalCrossentropy\n",
        "from tensorflow.keras.optimizers import Adam\n",
        "\n",
        "#Metrics and Evaluation\n",
        "from sklearn.metrics import balanced_accuracy_score, classification_report\n",
        "from sklearn.metrics import f1_score, roc_auc_score, accuracy_score, precision_recall_fscore_support\n",
        "from sklearn.model_selection import train_test_split\n",
        "from sklearn import preprocessing\n",
        "from sklearn import metrics"
      ]
    },
    {
      "cell_type": "code",
      "execution_count": 3,
      "metadata": {
        "colab": {
          "base_uri": "https://localhost:8080/",
          "height": 608
        },
        "id": "vBZ9vBvbRBGX",
        "outputId": "5b39af9e-45dc-481f-b903-108c0747736f"
      },
      "outputs": [
        {
          "name": "stderr",
          "output_type": "stream",
          "text": [
            "C:\\Users\\Shan Shan\\AppData\\Local\\Temp\\ipykernel_23232\\4222934597.py:3: UserWarning: Parsing dates in DD/MM/YYYY format when dayfirst=False (the default) was specified. This may lead to inconsistently parsed dates! Specify a format to ensure consistent parsing.\n",
            "  test_data = pd.read_csv(\"Corona_NLP_test.csv\", encoding='latin-1',na_values=['NaN', ''],parse_dates=['TweetAt'], infer_datetime_format=True)\n"
          ]
        },
        {
          "data": {
            "text/html": [
              "<div>\n",
              "<style scoped>\n",
              "    .dataframe tbody tr th:only-of-type {\n",
              "        vertical-align: middle;\n",
              "    }\n",
              "\n",
              "    .dataframe tbody tr th {\n",
              "        vertical-align: top;\n",
              "    }\n",
              "\n",
              "    .dataframe thead th {\n",
              "        text-align: right;\n",
              "    }\n",
              "</style>\n",
              "<table border=\"1\" class=\"dataframe\">\n",
              "  <thead>\n",
              "    <tr style=\"text-align: right;\">\n",
              "      <th></th>\n",
              "      <th>UserName</th>\n",
              "      <th>ScreenName</th>\n",
              "      <th>Location</th>\n",
              "      <th>TweetAt</th>\n",
              "      <th>OriginalTweet</th>\n",
              "      <th>Sentiment</th>\n",
              "    </tr>\n",
              "  </thead>\n",
              "  <tbody>\n",
              "    <tr>\n",
              "      <th>0</th>\n",
              "      <td>3799</td>\n",
              "      <td>48751</td>\n",
              "      <td>London</td>\n",
              "      <td>2020-03-16</td>\n",
              "      <td>@MeNyrbie @Phil_Gahan @Chrisitv https://t.co/i...</td>\n",
              "      <td>Neutral</td>\n",
              "    </tr>\n",
              "    <tr>\n",
              "      <th>1</th>\n",
              "      <td>3800</td>\n",
              "      <td>48752</td>\n",
              "      <td>UK</td>\n",
              "      <td>2020-03-16</td>\n",
              "      <td>advice Talk to your neighbours family to excha...</td>\n",
              "      <td>Positive</td>\n",
              "    </tr>\n",
              "    <tr>\n",
              "      <th>2</th>\n",
              "      <td>3801</td>\n",
              "      <td>48753</td>\n",
              "      <td>Vagabonds</td>\n",
              "      <td>2020-03-16</td>\n",
              "      <td>Coronavirus Australia: Woolworths to give elde...</td>\n",
              "      <td>Positive</td>\n",
              "    </tr>\n",
              "    <tr>\n",
              "      <th>3</th>\n",
              "      <td>3802</td>\n",
              "      <td>48754</td>\n",
              "      <td>NaN</td>\n",
              "      <td>2020-03-16</td>\n",
              "      <td>My food stock is not the only one which is emp...</td>\n",
              "      <td>Positive</td>\n",
              "    </tr>\n",
              "    <tr>\n",
              "      <th>4</th>\n",
              "      <td>3803</td>\n",
              "      <td>48755</td>\n",
              "      <td>NaN</td>\n",
              "      <td>2020-03-16</td>\n",
              "      <td>Me, ready to go at supermarket during the #COV...</td>\n",
              "      <td>Extremely Negative</td>\n",
              "    </tr>\n",
              "  </tbody>\n",
              "</table>\n",
              "</div>"
            ],
            "text/plain": [
              "   UserName  ScreenName   Location    TweetAt  \\\n",
              "0      3799       48751     London 2020-03-16   \n",
              "1      3800       48752         UK 2020-03-16   \n",
              "2      3801       48753  Vagabonds 2020-03-16   \n",
              "3      3802       48754        NaN 2020-03-16   \n",
              "4      3803       48755        NaN 2020-03-16   \n",
              "\n",
              "                                       OriginalTweet           Sentiment  \n",
              "0  @MeNyrbie @Phil_Gahan @Chrisitv https://t.co/i...             Neutral  \n",
              "1  advice Talk to your neighbours family to excha...            Positive  \n",
              "2  Coronavirus Australia: Woolworths to give elde...            Positive  \n",
              "3  My food stock is not the only one which is emp...            Positive  \n",
              "4  Me, ready to go at supermarket during the #COV...  Extremely Negative  "
            ]
          },
          "execution_count": 3,
          "metadata": {},
          "output_type": "execute_result"
        }
      ],
      "source": [
        "#Reading data\n",
        "train_data = pd.read_csv(\"Corona_NLP_train.csv\", encoding='latin-1',na_values=['NaN', ''],parse_dates=['TweetAt'], infer_datetime_format=True)\n",
        "test_data = pd.read_csv(\"Corona_NLP_test.csv\", encoding='latin-1',na_values=['NaN', ''],parse_dates=['TweetAt'], infer_datetime_format=True)\n",
        "\n",
        "train_data.head()"
      ]
    },
    {
      "cell_type": "markdown",
      "metadata": {
        "id": "2pWBk5TIaBih"
      },
      "source": [
        "**Description of Variables**\n",
        "\n",
        "Features\n",
        "\n",
        "Names : Have been converted to codes for data privacy reasons\n",
        "\n",
        "UserName : Unique identifier for person who published the tweet.\n",
        "\n",
        "ScreenName : Name of user who published the tweet\n",
        "\n",
        "Location : The location the tweet was published ( Contains NaN )\n",
        "\n",
        "TweetAt : Date the tweet was published\n",
        "\n",
        "OriginalTweet : The text contained within the tweet\n",
        "\n",
        "Target\n",
        "\n",
        "Sentiment : The general feelings of the person who published the tweet regarding Covid 19."
      ]
    },
    {
      "cell_type": "code",
      "execution_count": 4,
      "metadata": {
        "colab": {
          "base_uri": "https://localhost:8080/"
        },
        "id": "vRi-gcppR-r2",
        "outputId": "5221f1a1-46b7-4bda-9542-c7b0c2c27ccc"
      },
      "outputs": [
        {
          "data": {
            "text/plain": [
              "UserName            0\n",
              "ScreenName          0\n",
              "Location         8590\n",
              "TweetAt             0\n",
              "OriginalTweet       0\n",
              "Sentiment           0\n",
              "dtype: int64"
            ]
          },
          "execution_count": 4,
          "metadata": {},
          "output_type": "execute_result"
        }
      ],
      "source": [
        "#Counting sum of NAs in Corona_NLP_train.csv\n",
        "train_data.isna().sum()"
      ]
    },
    {
      "cell_type": "code",
      "execution_count": 5,
      "metadata": {
        "colab": {
          "base_uri": "https://localhost:8080/"
        },
        "id": "Sgk2a_VDRz8S",
        "outputId": "170185cf-52dd-4a7e-824c-facc018b3f11"
      },
      "outputs": [
        {
          "data": {
            "text/plain": [
              "UserName           0\n",
              "ScreenName         0\n",
              "Location         834\n",
              "TweetAt            0\n",
              "OriginalTweet      0\n",
              "Sentiment          0\n",
              "dtype: int64"
            ]
          },
          "execution_count": 5,
          "metadata": {},
          "output_type": "execute_result"
        }
      ],
      "source": [
        "#Counting sum of NAs in Corona_NLP_test.csv\n",
        "test_data.isna().sum()"
      ]
    },
    {
      "cell_type": "code",
      "execution_count": 6,
      "metadata": {
        "colab": {
          "base_uri": "https://localhost:8080/"
        },
        "id": "7DXVynavaMrn",
        "outputId": "d5e1e752-e5f9-434f-f09a-44eefff9a2c9"
      },
      "outputs": [
        {
          "name": "stdout",
          "output_type": "stream",
          "text": [
            "True\n",
            "True\n"
          ]
        }
      ],
      "source": [
        "#Check number of duplicate rows\n",
        "print(len(train_data.drop_duplicates()) == len(train_data))\n",
        "print(len(test_data.drop_duplicates()) == len(test_data))"
      ]
    },
    {
      "cell_type": "code",
      "execution_count": 7,
      "metadata": {
        "colab": {
          "base_uri": "https://localhost:8080/"
        },
        "id": "N7fJ69OYy2UC",
        "outputId": "f9ef1b1d-1203-4418-838c-e826a0124c12"
      },
      "outputs": [
        {
          "data": {
            "text/plain": [
              "UserName                  int64\n",
              "ScreenName                int64\n",
              "Location                 object\n",
              "TweetAt          datetime64[ns]\n",
              "OriginalTweet            object\n",
              "Sentiment                object\n",
              "dtype: object"
            ]
          },
          "execution_count": 7,
          "metadata": {},
          "output_type": "execute_result"
        }
      ],
      "source": [
        "train_data.dtypes"
      ]
    },
    {
      "cell_type": "code",
      "execution_count": 8,
      "metadata": {
        "id": "R-usXBgcziT4"
      },
      "outputs": [],
      "source": [
        "# Impute location for missing datapoints\n",
        "## We will use the most frequent location to impute the missing location.\n",
        "most_freq_loc = train_data[\"Location\"].mode()[0]\n",
        "most_freq_loc_test = test_data[\"Location\"].mode()[0]\n",
        "\n",
        "train_data[\"Location\"].fillna(value = most_freq_loc, inplace=True)\n",
        "test_data[\"Location\"].fillna(value = most_freq_loc_test, inplace=True)"
      ]
    },
    {
      "cell_type": "code",
      "execution_count": 9,
      "metadata": {
        "colab": {
          "base_uri": "https://localhost:8080/",
          "height": 564
        },
        "id": "a3_a_csIaOzy",
        "outputId": "ca450ff4-174e-4f23-a7c7-6cffabf02134"
      },
      "outputs": [
        {
          "data": {
            "text/plain": [
              "[Text(0, 0, '11422 (28%)'),\n",
              " Text(0, 0, '9917 (24%)'),\n",
              " Text(0, 0, '7713 (19%)'),\n",
              " Text(0, 0, '6624 (16%)'),\n",
              " Text(0, 0, '5481 (13%)')]"
            ]
          },
          "execution_count": 9,
          "metadata": {},
          "output_type": "execute_result"
        },
        {
          "data": {
            "image/png": "[encoded data removed]",
            "text/plain": [
              "<Figure size 640x480 with 1 Axes>"
            ]
          },
          "metadata": {},
          "output_type": "display_data"
        }
      ],
      "source": [
        "#View distribution of each sentiment for train set\n",
        "\n",
        "sns.set(style=\"darkgrid\")\n",
        "sent_train_plot = sns.countplot(x=\"Sentiment\", data=train_data, order=train_data['Sentiment'].value_counts(ascending=False).index)\n",
        "abs_values = train_data['Sentiment'].value_counts(ascending=False)\n",
        "rel_values = train_data['Sentiment'].value_counts(ascending=False, normalize=True).values * 100\n",
        "lbls = [f'{p[0]} ({p[1]:.0f}%)' for p in zip(abs_values, rel_values)]\n",
        "sent_train_plot.tick_params(labelsize= 8)\n",
        "sent_train_plot.axes.set_title(\"Sentiment Distribution for train data set\",fontsize=15)\n",
        "\n",
        "\n",
        "sent_train_plot.bar_label(container=sent_train_plot.containers[0], labels=lbls)"
      ]
    },
    {
      "cell_type": "code",
      "execution_count": 10,
      "metadata": {
        "colab": {
          "base_uri": "https://localhost:8080/",
          "height": 564
        },
        "id": "vpvK_cMtaS7t",
        "outputId": "fc1b981c-3873-43c9-df8f-711783c251f6"
      },
      "outputs": [
        {
          "data": {
            "text/plain": [
              "[Text(0, 0, '1041 (27%)'),\n",
              " Text(0, 0, '947 (25%)'),\n",
              " Text(0, 0, '619 (16%)'),\n",
              " Text(0, 0, '599 (16%)'),\n",
              " Text(0, 0, '592 (16%)')]"
            ]
          },
          "execution_count": 10,
          "metadata": {},
          "output_type": "execute_result"
        },
        {
          "data": {
            "image/png": "[encoded data removed]",
            "text/plain": [
              "<Figure size 640x480 with 1 Axes>"
            ]
          },
          "metadata": {},
          "output_type": "display_data"
        }
      ],
      "source": [
        "#View distribution of each sentiment for test set\n",
        "\n",
        "sns.set(style=\"darkgrid\")\n",
        "sent_test_plot = sns.countplot(x=\"Sentiment\", data=test_data, order=test_data['Sentiment'].value_counts(ascending=False).index)\n",
        "abs_values2 = test_data['Sentiment'].value_counts(ascending=False)\n",
        "rel_values2= test_data['Sentiment'].value_counts(ascending=False, normalize=True).values * 100\n",
        "lbls2 = [f'{p[0]} ({p[1]:.0f}%)' for p in zip(abs_values2, rel_values2)]\n",
        "sent_test_plot.tick_params(labelsize= 8)\n",
        "sent_test_plot.axes.set_title(\"Sentiment Distribution for test data set\",fontsize=15)\n",
        "\n",
        "\n",
        "sent_test_plot.bar_label(container=sent_test_plot.containers[0], labels=lbls2)"
      ]
    },
    {
      "cell_type": "code",
      "execution_count": 11,
      "metadata": {
        "colab": {
          "base_uri": "https://localhost:8080/",
          "height": 1000
        },
        "id": "nMgDdG0aaVLX",
        "outputId": "80379697-e4df-422f-d068-368a3f7a4cdf"
      },
      "outputs": [
        {
          "data": {
            "image/png": "[encoded data removed]",
            "text/plain": [
              "<Figure size 1500x500 with 1 Axes>"
            ]
          },
          "metadata": {},
          "output_type": "display_data"
        },
        {
          "data": {
            "image/png": "[encoded data removed]",
            "text/plain": [
              "<Figure size 1500x500 with 1 Axes>"
            ]
          },
          "metadata": {},
          "output_type": "display_data"
        },
        {
          "data": {
            "image/png": "[encoded data removed]",
            "text/plain": [
              "<Figure size 1500x500 with 1 Axes>"
            ]
          },
          "metadata": {},
          "output_type": "display_data"
        },
        {
          "data": {
            "image/png": "[encoded data removed]",
            "text/plain": [
              "<Figure size 1500x500 with 1 Axes>"
            ]
          },
          "metadata": {},
          "output_type": "display_data"
        },
        {
          "data": {
            "image/png": "[encoded data removed]",
            "text/plain": [
              "<Figure size 1500x500 with 1 Axes>"
            ]
          },
          "metadata": {},
          "output_type": "display_data"
        }
      ],
      "source": [
        "#Number of Words in tweets classified by sentiments\n",
        "classes = train_data.groupby('Sentiment')['Sentiment'].unique()\n",
        "\n",
        "\n",
        "for sent in classes : \n",
        "    fig, ax = plt.subplots(1,1,figsize=(15,5))\n",
        "    len_tweet = train_data[train_data['Sentiment'] == sent[0]]['OriginalTweet'].str.split().map(lambda x: len(x))\n",
        "    sns.histplot(len_tweet).axes.set_title(sent[0])"
      ]
    },
    {
      "cell_type": "code",
      "execution_count": 12,
      "metadata": {
        "colab": {
          "base_uri": "https://localhost:8080/",
          "height": 542
        },
        "id": "mJKTnYYrad9-",
        "outputId": "8f30fe95-0637-4347-8ac7-87b42bb6517b"
      },
      "outputs": [
        {
          "data": {
            "application/vnd.plotly.v1+json": {
              "config": {
                "plotlyServerURL": "https://plot.ly"
              },
              "data": [
                {
                  "hovertemplate": "x=%{x}<br>y=%{y}<extra></extra>",
                  "legendgroup": "",
                  "line": {
                    "color": "#1F77B4",
                    "dash": "solid"
                  },
                  "marker": {
                    "symbol": "circle"
                  },
                  "mode": "lines",
                  "name": "",
                  "orientation": "v",
                  "showlegend": false,
                  "type": "scatter",
                  "x": [
                    "2020-03-16T00:00:00",
                    "2020-03-17T00:00:00",
                    "2020-03-18T00:00:00",
                    "2020-03-19T00:00:00",
                    "2020-03-20T00:00:00",
                    "2020-03-21T00:00:00",
                    "2020-03-22T00:00:00",
                    "2020-03-23T00:00:00",
                    "2020-03-24T00:00:00",
                    "2020-03-25T00:00:00",
                    "2020-03-26T00:00:00",
                    "2020-03-27T00:00:00",
                    "2020-03-28T00:00:00",
                    "2020-03-29T00:00:00",
                    "2020-03-30T00:00:00",
                    "2020-03-31T00:00:00",
                    "2020-04-01T00:00:00",
                    "2020-04-02T00:00:00",
                    "2020-04-03T00:00:00",
                    "2020-04-04T00:00:00",
                    "2020-04-05T00:00:00",
                    "2020-04-06T00:00:00",
                    "2020-04-07T00:00:00",
                    "2020-04-08T00:00:00",
                    "2020-04-09T00:00:00",
                    "2020-04-10T00:00:00",
                    "2020-04-11T00:00:00",
                    "2020-04-12T00:00:00",
                    "2020-04-13T00:00:00",
                    "2020-04-14T00:00:00"
                  ],
                  "xaxis": "x",
                  "y": [
                    656,
                    1977,
                    2742,
                    3215,
                    3448,
                    2653,
                    2114,
                    2062,
                    1480,
                    2979,
                    1277,
                    345,
                    23,
                    125,
                    87,
                    316,
                    630,
                    954,
                    810,
                    767,
                    1131,
                    1742,
                    1843,
                    1881,
                    1471,
                    1005,
                    909,
                    803,
                    1428,
                    284
                  ],
                  "yaxis": "y"
                }
              ],
              "layout": {
                "font": {
                  "family": "Arial",
                  "size": 17
                },
                "legend": {
                  "tracegroupgap": 0
                },
                "template": {
                  "data": {
                    "bar": [
                      {
                        "error_x": {
                          "color": "rgb(36,36,36)"
                        },
                        "error_y": {
                          "color": "rgb(36,36,36)"
                        },
                        "marker": {
                          "line": {
                            "color": "white",
                            "width": 0.5
                          },
                          "pattern": {
                            "fillmode": "overlay",
                            "size": 10,
                            "solidity": 0.2
                          }
                        },
                        "type": "bar"
                      }
                    ],
                    "barpolar": [
                      {
                        "marker": {
                          "line": {
                            "color": "white",
                            "width": 0.5
                          },
                          "pattern": {
                            "fillmode": "overlay",
                            "size": 10,
                            "solidity": 0.2
                          }
                        },
                        "type": "barpolar"
                      }
                    ],
                    "carpet": [
                      {
                        "aaxis": {
                          "endlinecolor": "rgb(36,36,36)",
                          "gridcolor": "white",
                          "linecolor": "white",
                          "minorgridcolor": "white",
                          "startlinecolor": "rgb(36,36,36)"
                        },
                        "baxis": {
                          "endlinecolor": "rgb(36,36,36)",
                          "gridcolor": "white",
                          "linecolor": "white",
                          "minorgridcolor": "white",
                          "startlinecolor": "rgb(36,36,36)"
                        },
                        "type": "carpet"
                      }
                    ],
                    "choropleth": [
                      {
                        "colorbar": {
                          "outlinewidth": 1,
                          "tickcolor": "rgb(36,36,36)",
                          "ticks": "outside"
                        },
                        "type": "choropleth"
                      }
                    ],
                    "contour": [
                      {
                        "colorbar": {
                          "outlinewidth": 1,
                          "tickcolor": "rgb(36,36,36)",
                          "ticks": "outside"
                        },
                        "colorscale": [
                          [
                            0,
                            "#440154"
                          ],
                          [
                            0.1111111111111111,
                            "#482878"
                          ],
                          [
                            0.2222222222222222,
                            "#3e4989"
                          ],
                          [
                            0.3333333333333333,
                            "#31688e"
                          ],
                          [
                            0.4444444444444444,
                            "#26828e"
                          ],
                          [
                            0.5555555555555556,
                            "#1f9e89"
                          ],
                          [
                            0.6666666666666666,
                            "#35b779"
                          ],
                          [
                            0.7777777777777778,
                            "#6ece58"
                          ],
                          [
                            0.8888888888888888,
                            "#b5de2b"
                          ],
                          [
                            1,
                            "#fde725"
                          ]
                        ],
                        "type": "contour"
                      }
                    ],
                    "contourcarpet": [
                      {
                        "colorbar": {
                          "outlinewidth": 1,
                          "tickcolor": "rgb(36,36,36)",
                          "ticks": "outside"
                        },
                        "type": "contourcarpet"
                      }
                    ],
                    "heatmap": [
                      {
                        "colorbar": {
                          "outlinewidth": 1,
                          "tickcolor": "rgb(36,36,36)",
                          "ticks": "outside"
                        },
                        "colorscale": [
                          [
                            0,
                            "#440154"
                          ],
                          [
                            0.1111111111111111,
                            "#482878"
                          ],
                          [
                            0.2222222222222222,
                            "#3e4989"
                          ],
                          [
                            0.3333333333333333,
                            "#31688e"
                          ],
                          [
                            0.4444444444444444,
                            "#26828e"
                          ],
                          [
                            0.5555555555555556,
                            "#1f9e89"
                          ],
                          [
                            0.6666666666666666,
                            "#35b779"
                          ],
                          [
                            0.7777777777777778,
                            "#6ece58"
                          ],
                          [
                            0.8888888888888888,
                            "#b5de2b"
                          ],
                          [
                            1,
                            "#fde725"
                          ]
                        ],
                        "type": "heatmap"
                      }
                    ],
                    "heatmapgl": [
                      {
                        "colorbar": {
                          "outlinewidth": 1,
                          "tickcolor": "rgb(36,36,36)",
                          "ticks": "outside"
                        },
                        "colorscale": [
                          [
                            0,
                            "#440154"
                          ],
                          [
                            0.1111111111111111,
                            "#482878"
                          ],
                          [
                            0.2222222222222222,
                            "#3e4989"
                          ],
                          [
                            0.3333333333333333,
                            "#31688e"
                          ],
                          [
                            0.4444444444444444,
                            "#26828e"
                          ],
                          [
                            0.5555555555555556,
                            "#1f9e89"
                          ],
                          [
                            0.6666666666666666,
                            "#35b779"
                          ],
                          [
                            0.7777777777777778,
                            "#6ece58"
                          ],
                          [
                            0.8888888888888888,
                            "#b5de2b"
                          ],
                          [
                            1,
                            "#fde725"
                          ]
                        ],
                        "type": "heatmapgl"
                      }
                    ],
                    "histogram": [
                      {
                        "marker": {
                          "line": {
                            "color": "white",
                            "width": 0.6
                          }
                        },
                        "type": "histogram"
                      }
                    ],
                    "histogram2d": [
                      {
                        "colorbar": {
                          "outlinewidth": 1,
                          "tickcolor": "rgb(36,36,36)",
                          "ticks": "outside"
                        },
                        "colorscale": [
                          [
                            0,
                            "#440154"
                          ],
                          [
                            0.1111111111111111,
                            "#482878"
                          ],
                          [
                            0.2222222222222222,
                            "#3e4989"
                          ],
                          [
                            0.3333333333333333,
                            "#31688e"
                          ],
                          [
                            0.4444444444444444,
                            "#26828e"
                          ],
                          [
                            0.5555555555555556,
                            "#1f9e89"
                          ],
                          [
                            0.6666666666666666,
                            "#35b779"
                          ],
                          [
                            0.7777777777777778,
                            "#6ece58"
                          ],
                          [
                            0.8888888888888888,
                            "#b5de2b"
                          ],
                          [
                            1,
                            "#fde725"
                          ]
                        ],
                        "type": "histogram2d"
                      }
                    ],
                    "histogram2dcontour": [
                      {
                        "colorbar": {
                          "outlinewidth": 1,
                          "tickcolor": "rgb(36,36,36)",
                          "ticks": "outside"
                        },
                        "colorscale": [
                          [
                            0,
                            "#440154"
                          ],
                          [
                            0.1111111111111111,
                            "#482878"
                          ],
                          [
                            0.2222222222222222,
                            "#3e4989"
                          ],
                          [
                            0.3333333333333333,
                            "#31688e"
                          ],
                          [
                            0.4444444444444444,
                            "#26828e"
                          ],
                          [
                            0.5555555555555556,
                            "#1f9e89"
                          ],
                          [
                            0.6666666666666666,
                            "#35b779"
                          ],
                          [
                            0.7777777777777778,
                            "#6ece58"
                          ],
                          [
                            0.8888888888888888,
                            "#b5de2b"
                          ],
                          [
                            1,
                            "#fde725"
                          ]
                        ],
                        "type": "histogram2dcontour"
                      }
                    ],
                    "mesh3d": [
                      {
                        "colorbar": {
                          "outlinewidth": 1,
                          "tickcolor": "rgb(36,36,36)",
                          "ticks": "outside"
                        },
                        "type": "mesh3d"
                      }
                    ],
                    "parcoords": [
                      {
                        "line": {
                          "colorbar": {
                            "outlinewidth": 1,
                            "tickcolor": "rgb(36,36,36)",
                            "ticks": "outside"
                          }
                        },
                        "type": "parcoords"
                      }
                    ],
                    "pie": [
                      {
                        "automargin": true,
                        "type": "pie"
                      }
                    ],
                    "scatter": [
                      {
                        "fillpattern": {
                          "fillmode": "overlay",
                          "size": 10,
                          "solidity": 0.2
                        },
                        "type": "scatter"
                      }
                    ],
                    "scatter3d": [
                      {
                        "line": {
                          "colorbar": {
                            "outlinewidth": 1,
                            "tickcolor": "rgb(36,36,36)",
                            "ticks": "outside"
                          }
                        },
                        "marker": {
                          "colorbar": {
                            "outlinewidth": 1,
                            "tickcolor": "rgb(36,36,36)",
                            "ticks": "outside"
                          }
                        },
                        "type": "scatter3d"
                      }
                    ],
                    "scattercarpet": [
                      {
                        "marker": {
                          "colorbar": {
                            "outlinewidth": 1,
                            "tickcolor": "rgb(36,36,36)",
                            "ticks": "outside"
                          }
                        },
                        "type": "scattercarpet"
                      }
                    ],
                    "scattergeo": [
                      {
                        "marker": {
                          "colorbar": {
                            "outlinewidth": 1,
                            "tickcolor": "rgb(36,36,36)",
                            "ticks": "outside"
                          }
                        },
                        "type": "scattergeo"
                      }
                    ],
                    "scattergl": [
                      {
                        "marker": {
                          "colorbar": {
                            "outlinewidth": 1,
                            "tickcolor": "rgb(36,36,36)",
                            "ticks": "outside"
                          }
                        },
                        "type": "scattergl"
                      }
                    ],
                    "scattermapbox": [
                      {
                        "marker": {
                          "colorbar": {
                            "outlinewidth": 1,
                            "tickcolor": "rgb(36,36,36)",
                            "ticks": "outside"
                          }
                        },
                        "type": "scattermapbox"
                      }
                    ],
                    "scatterpolar": [
                      {
                        "marker": {
                          "colorbar": {
                            "outlinewidth": 1,
                            "tickcolor": "rgb(36,36,36)",
                            "ticks": "outside"
                          }
                        },
                        "type": "scatterpolar"
                      }
                    ],
                    "scatterpolargl": [
                      {
                        "marker": {
                          "colorbar": {
                            "outlinewidth": 1,
                            "tickcolor": "rgb(36,36,36)",
                            "ticks": "outside"
                          }
                        },
                        "type": "scatterpolargl"
                      }
                    ],
                    "scatterternary": [
                      {
                        "marker": {
                          "colorbar": {
                            "outlinewidth": 1,
                            "tickcolor": "rgb(36,36,36)",
                            "ticks": "outside"
                          }
                        },
                        "type": "scatterternary"
                      }
                    ],
                    "surface": [
                      {
                        "colorbar": {
                          "outlinewidth": 1,
                          "tickcolor": "rgb(36,36,36)",
                          "ticks": "outside"
                        },
                        "colorscale": [
                          [
                            0,
                            "#440154"
                          ],
                          [
                            0.1111111111111111,
                            "#482878"
                          ],
                          [
                            0.2222222222222222,
                            "#3e4989"
                          ],
                          [
                            0.3333333333333333,
                            "#31688e"
                          ],
                          [
                            0.4444444444444444,
                            "#26828e"
                          ],
                          [
                            0.5555555555555556,
                            "#1f9e89"
                          ],
                          [
                            0.6666666666666666,
                            "#35b779"
                          ],
                          [
                            0.7777777777777778,
                            "#6ece58"
                          ],
                          [
                            0.8888888888888888,
                            "#b5de2b"
                          ],
                          [
                            1,
                            "#fde725"
                          ]
                        ],
                        "type": "surface"
                      }
                    ],
                    "table": [
                      {
                        "cells": {
                          "fill": {
                            "color": "rgb(237,237,237)"
                          },
                          "line": {
                            "color": "white"
                          }
                        },
                        "header": {
                          "fill": {
                            "color": "rgb(217,217,217)"
                          },
                          "line": {
                            "color": "white"
                          }
                        },
                        "type": "table"
                      }
                    ]
                  },
                  "layout": {
                    "annotationdefaults": {
                      "arrowhead": 0,
                      "arrowwidth": 1
                    },
                    "autotypenumbers": "strict",
                    "coloraxis": {
                      "colorbar": {
                        "outlinewidth": 1,
                        "tickcolor": "rgb(36,36,36)",
                        "ticks": "outside"
                      }
                    },
                    "colorscale": {
                      "diverging": [
                        [
                          0,
                          "rgb(103,0,31)"
                        ],
                        [
                          0.1,
                          "rgb(178,24,43)"
                        ],
                        [
                          0.2,
                          "rgb(214,96,77)"
                        ],
                        [
                          0.3,
                          "rgb(244,165,130)"
                        ],
                        [
                          0.4,
                          "rgb(253,219,199)"
                        ],
                        [
                          0.5,
                          "rgb(247,247,247)"
                        ],
                        [
                          0.6,
                          "rgb(209,229,240)"
                        ],
                        [
                          0.7,
                          "rgb(146,197,222)"
                        ],
                        [
                          0.8,
                          "rgb(67,147,195)"
                        ],
                        [
                          0.9,
                          "rgb(33,102,172)"
                        ],
                        [
                          1,
                          "rgb(5,48,97)"
                        ]
                      ],
                      "sequential": [
                        [
                          0,
                          "#440154"
                        ],
                        [
                          0.1111111111111111,
                          "#482878"
                        ],
                        [
                          0.2222222222222222,
                          "#3e4989"
                        ],
                        [
                          0.3333333333333333,
                          "#31688e"
                        ],
                        [
                          0.4444444444444444,
                          "#26828e"
                        ],
                        [
                          0.5555555555555556,
                          "#1f9e89"
                        ],
                        [
                          0.6666666666666666,
                          "#35b779"
                        ],
                        [
                          0.7777777777777778,
                          "#6ece58"
                        ],
                        [
                          0.8888888888888888,
                          "#b5de2b"
                        ],
                        [
                          1,
                          "#fde725"
                        ]
                      ],
                      "sequentialminus": [
                        [
                          0,
                          "#440154"
                        ],
                        [
                          0.1111111111111111,
                          "#482878"
                        ],
                        [
                          0.2222222222222222,
                          "#3e4989"
                        ],
                        [
                          0.3333333333333333,
                          "#31688e"
                        ],
                        [
                          0.4444444444444444,
                          "#26828e"
                        ],
                        [
                          0.5555555555555556,
                          "#1f9e89"
                        ],
                        [
                          0.6666666666666666,
                          "#35b779"
                        ],
                        [
                          0.7777777777777778,
                          "#6ece58"
                        ],
                        [
                          0.8888888888888888,
                          "#b5de2b"
                        ],
                        [
                          1,
                          "#fde725"
                        ]
                      ]
                    },
                    "colorway": [
                      "#1F77B4",
                      "#FF7F0E",
                      "#2CA02C",
                      "#D62728",
                      "#9467BD",
                      "#8C564B",
                      "#E377C2",
                      "#7F7F7F",
                      "#BCBD22",
                      "#17BECF"
                    ],
                    "font": {
                      "color": "rgb(36,36,36)"
                    },
                    "geo": {
                      "bgcolor": "white",
                      "lakecolor": "white",
                      "landcolor": "white",
                      "showlakes": true,
                      "showland": true,
                      "subunitcolor": "white"
                    },
                    "hoverlabel": {
                      "align": "left"
                    },
                    "hovermode": "closest",
                    "mapbox": {
                      "style": "light"
                    },
                    "paper_bgcolor": "white",
                    "plot_bgcolor": "white",
                    "polar": {
                      "angularaxis": {
                        "gridcolor": "rgb(232,232,232)",
                        "linecolor": "rgb(36,36,36)",
                        "showgrid": false,
                        "showline": true,
                        "ticks": "outside"
                      },
                      "bgcolor": "white",
                      "radialaxis": {
                        "gridcolor": "rgb(232,232,232)",
                        "linecolor": "rgb(36,36,36)",
                        "showgrid": false,
                        "showline": true,
                        "ticks": "outside"
                      }
                    },
                    "scene": {
                      "xaxis": {
                        "backgroundcolor": "white",
                        "gridcolor": "rgb(232,232,232)",
                        "gridwidth": 2,
                        "linecolor": "rgb(36,36,36)",
                        "showbackground": true,
                        "showgrid": false,
                        "showline": true,
                        "ticks": "outside",
                        "zeroline": false,
                        "zerolinecolor": "rgb(36,36,36)"
                      },
                      "yaxis": {
                        "backgroundcolor": "white",
                        "gridcolor": "rgb(232,232,232)",
                        "gridwidth": 2,
                        "linecolor": "rgb(36,36,36)",
                        "showbackground": true,
                        "showgrid": false,
                        "showline": true,
                        "ticks": "outside",
                        "zeroline": false,
                        "zerolinecolor": "rgb(36,36,36)"
                      },
                      "zaxis": {
                        "backgroundcolor": "white",
                        "gridcolor": "rgb(232,232,232)",
                        "gridwidth": 2,
                        "linecolor": "rgb(36,36,36)",
                        "showbackground": true,
                        "showgrid": false,
                        "showline": true,
                        "ticks": "outside",
                        "zeroline": false,
                        "zerolinecolor": "rgb(36,36,36)"
                      }
                    },
                    "shapedefaults": {
                      "fillcolor": "black",
                      "line": {
                        "width": 0
                      },
                      "opacity": 0.3
                    },
                    "ternary": {
                      "aaxis": {
                        "gridcolor": "rgb(232,232,232)",
                        "linecolor": "rgb(36,36,36)",
                        "showgrid": false,
                        "showline": true,
                        "ticks": "outside"
                      },
                      "baxis": {
                        "gridcolor": "rgb(232,232,232)",
                        "linecolor": "rgb(36,36,36)",
                        "showgrid": false,
                        "showline": true,
                        "ticks": "outside"
                      },
                      "bgcolor": "white",
                      "caxis": {
                        "gridcolor": "rgb(232,232,232)",
                        "linecolor": "rgb(36,36,36)",
                        "showgrid": false,
                        "showline": true,
                        "ticks": "outside"
                      }
                    },
                    "title": {
                      "x": 0.05
                    },
                    "xaxis": {
                      "automargin": true,
                      "gridcolor": "rgb(232,232,232)",
                      "linecolor": "rgb(36,36,36)",
                      "showgrid": false,
                      "showline": true,
                      "ticks": "outside",
                      "title": {
                        "standoff": 15
                      },
                      "zeroline": false,
                      "zerolinecolor": "rgb(36,36,36)"
                    },
                    "yaxis": {
                      "automargin": true,
                      "gridcolor": "rgb(232,232,232)",
                      "linecolor": "rgb(36,36,36)",
                      "showgrid": false,
                      "showline": true,
                      "ticks": "outside",
                      "title": {
                        "standoff": 15
                      },
                      "zeroline": false,
                      "zerolinecolor": "rgb(36,36,36)"
                    }
                  }
                },
                "title": {
                  "text": "date of tweets"
                },
                "xaxis": {
                  "anchor": "y",
                  "domain": [
                    0,
                    1
                  ],
                  "title": {
                    "text": "x"
                  }
                },
                "yaxis": {
                  "anchor": "x",
                  "domain": [
                    0,
                    1
                  ],
                  "title": {
                    "text": "y"
                  }
                }
              }
            }
          },
          "metadata": {},
          "output_type": "display_data"
        }
      ],
      "source": [
        "#View the monthly distribution of tweets\n",
        "time = train_data.groupby(['TweetAt']).size()\n",
        "fig = px.line(train_data, \n",
        "              x=time.index, \n",
        "              y=time.values, \n",
        "              title = 'date of tweets',\n",
        "              template='simple_white')\n",
        "\n",
        "fig.update_layout(\n",
        "font=dict(size=17,family=\"Arial\"),)\n",
        "\n",
        "fig.show()"
      ]
    },
    {
      "cell_type": "markdown",
      "metadata": {
        "id": "Zm20KVLmahAC"
      },
      "source": [
        "**Exploratory Data Analysis**\n",
        "\n",
        "1. There are missing values in the location column that will need to be cleaned or backfilled.\n",
        "2. There are no duplicate rows in either test or train set.\n",
        "3. The distribution of sentiments in the train set and test sets are relatively similar and are comparable with Positive and Negative being the most common sentiments.\n",
        "4. Neutral Tweets generally have less words compared to the other sentiments.\n",
        "5. In the dataset, majority of tweets were published from March. This is likely due to Covid-19 being announced as a pandemic by WHO on March 11."
      ]
    },
    {
      "cell_type": "markdown",
      "metadata": {
        "id": "hgEULT65apqP"
      },
      "source": [
        "**Data Preprocessing**\n",
        "\n",
        "1) Converting to Lowercasing \n",
        "\n",
        "2) Removing Stopwords\n",
        "\n",
        "3) Removing Punctuations\n",
        "\n",
        "4) Removing Special Characters\n",
        "\n",
        "5) Removing Extra Whitespaces \n",
        "\n",
        "6) Removing Line breakers\n",
        "\n",
        "7) Removing Emojis\n",
        "\n",
        "8) Removing Hashtags\n",
        "\n",
        "9) Removing Mentions\n",
        "\n",
        "10) Removal of Links\n",
        "\n",
        "11) Removal of UTF-encoding\n",
        "\n",
        "12) Tokenization \n",
        "\n",
        "13) Lemmatization"
      ]
    },
    {
      "cell_type": "code",
      "execution_count": 13,
      "metadata": {
        "id": "D0frk9oCASGn"
      },
      "outputs": [],
      "source": [
        "\"\"\" Preprocess v2 \"\"\"\n",
        "def preprocess_text(text: str, remove_stopwords: bool = True) -> str:\n",
        "    \"\"\"Function that cleans the input text by going to:\n",
        "    - remove links\n",
        "    - remove special characters\n",
        "    - remove numbers\n",
        "    - remove stopwords\n",
        "    - convert to lowercase\n",
        "    - remove excessive white spaces\n",
        "    Arguments:\n",
        "        text (str): text to clean\n",
        "        remove_stopwords (bool): whether to remove stopwords\n",
        "    Returns:\n",
        "        str: cleaned text\n",
        "    \"\"\"\n",
        "    special_characters = '[@_!#$%^&*()<>?/\\|}{~:]'\n",
        "    STOPWORDS = set(stopwords.words('english'))\n",
        "    lemmatizer = nltk.WordNetLemmatizer()\n",
        "    # remove emojis \n",
        "    text = remove_emojis(text)\n",
        "    # remove links\n",
        "    text = re.sub(r\"(?:\\@|https?\\://)\\S+\", \"\", text)\n",
        "    # remove numbers and special characters\n",
        "    # text = re.sub('[^a-zA-Z0-9 \\n\\.]',\" \", text)\n",
        "    text = re.sub(r'[\\\\/×\\^\\]:,.\\[÷]', '', text)\n",
        "    # remove all spaces and line breaks\n",
        "    text = text.replace('\\r', '').replace('\\n', ' ').replace('\\n', ' ').lower()\n",
        "    # remove utf-encodings\n",
        "    text = re.sub(r'[^\\x00-\\x7f]',r'', text) \n",
        "    # clean hashtags\n",
        "    text = clean_hashtags(text)\n",
        "    # filter_chars\n",
        "    text = filter_chars(text)\n",
        "    # remove mult spaces\n",
        "    text = remove_mult_spaces(text)\n",
        "    # remove stopwords\n",
        "    if remove_stopwords:\n",
        "        # 1. Create tokens.\n",
        "        tokens = nltk.word_tokenize(text)\n",
        "        # 2. Keep only words that are not purely special characters or numbers\n",
        "        tokens = [w for w in tokens if (not all(c in special_characters for c in w)) & (not w.isdigit()) ]\n",
        "        # 3. Lemmatize tokens.\n",
        "        tokens = [lemmatizer.lemmatize(w) for w in tokens]\n",
        "        # 4. check if it's a stopword\n",
        "        tokens = [w.lower().strip() for w in tokens if not w.lower() in STOPWORDS]\n",
        "        # return a list of cleaned tokens\n",
        "        \n",
        "        return tokens\n",
        "\n",
        "def remove_emojis(text):\n",
        "    return demoji.replace(text, '')\n",
        "    \n",
        "### -- Source codes from kaggle --- ### \n",
        "#clean hashtags at the end of the sentence, and keep those in the middle of the sentence by removing just the # symbol\n",
        "def clean_hashtags(tweet):\n",
        "    new_tweet = \" \".join(word.strip() for word in re.split('#(?!(?:hashtag)\\b)[\\w-]+(?=(?:\\s+#[\\w-]+)*\\s*$)', tweet)) #remove last hashtags\n",
        "    new_tweet2 = \" \".join(word.strip() for word in re.split('#|_', new_tweet)) #remove hashtags symbol from words in the middle of the sentence\n",
        "    return new_tweet2\n",
        "\n",
        "#Filter special characters such as & and $ present in some words\n",
        "def filter_chars(a):\n",
        "    sent = []\n",
        "    for word in a.split(' '):\n",
        "        if ('$' in word) | ('&' in word):\n",
        "            sent.append('')\n",
        "        else:\n",
        "            sent.append(word)\n",
        "    return ' '.join(sent)\n",
        "\n",
        "def remove_mult_spaces(text): # remove multiple spaces\n",
        "    return re.sub(\"\\s\\s+\" , \" \", text)\n",
        "\n",
        "\n",
        "# Source: https://www.kaggle.com/pierremegret/gensim-word2vec-tutorial\n",
        "\n",
        "def tsnescatterplot(model, word, list_names):\n",
        "    \"\"\" Plot in seaborn the results from the t-SNE dimensionality reduction algorithm of the vectors of a query word,\n",
        "    its list of most similar words, and a list of words.\n",
        "    \"\"\"\n",
        "    arrays = np.empty((0, 10), dtype='f')\n",
        "    word_labels = [word]\n",
        "    color_list  = ['red']\n",
        "\n",
        "    # adds the vector of the query word\n",
        "    arrays = np.append(arrays, model.wv.__getitem__([word]), axis=0)\n",
        "    \n",
        "    # gets list of most similar words\n",
        "    close_words = model.wv.most_similar([word])\n",
        "    \n",
        "    # adds the vector for each of the closest words to the array\n",
        "    for wrd_score in close_words:\n",
        "        wrd_vector = model.wv.__getitem__([wrd_score[0]])\n",
        "        word_labels.append(wrd_score[0])\n",
        "        color_list.append('blue')\n",
        "        arrays = np.append(arrays, wrd_vector, axis=0)\n",
        "    \n",
        "    # adds the vector for each of the words from list_names to the array\n",
        "    for wrd in list_names:\n",
        "        wrd_vector = model.wv.__getitem__([wrd])\n",
        "        word_labels.append(wrd)\n",
        "        color_list.append('green')\n",
        "        arrays = np.append(arrays, wrd_vector, axis=0)\n",
        "        \n",
        "    # Reduces the dimensionality from 300 to 50 dimensions with PCA\n",
        "    reduc = PCA(n_components=5).fit_transform(arrays)\n",
        "    \n",
        "    # Finds t-SNE coordinates for 2 dimensions\n",
        "    np.set_printoptions(suppress=True)\n",
        "    \n",
        "    Y = TSNE(n_components=2, random_state=0, perplexity=15).fit_transform(reduc)\n",
        "    \n",
        "    # Sets everything up to plot\n",
        "    df = pd.DataFrame({'x': [x for x in Y[:, 0]],\n",
        "                       'y': [y for y in Y[:, 1]],\n",
        "                       'words': word_labels,\n",
        "                       'color': color_list})\n",
        "    \n",
        "    fig, _ = plt.subplots()\n",
        "    fig.set_size_inches(9, 9)\n",
        "    \n",
        "    # Basic plot\n",
        "    p1 = sns.regplot(data=df,\n",
        "                     x=\"x\",\n",
        "                     y=\"y\",\n",
        "                     fit_reg=False,\n",
        "                     marker=\"o\",\n",
        "                     scatter_kws={'s': 40,\n",
        "                                  'facecolors': df['color']\n",
        "                                 }\n",
        "                    )\n",
        "    \n",
        "    # Adds annotations one by one with a loop\n",
        "    for line in range(0, df.shape[0]):\n",
        "         p1.text(df[\"x\"][line],\n",
        "                 df['y'][line],\n",
        "                 '  ' + df[\"words\"][line].title(),\n",
        "                 horizontalalignment='left',\n",
        "                 verticalalignment='bottom', size='medium',\n",
        "                 color=df['color'][line],\n",
        "                 weight='normal'\n",
        "                ).set_size(15)\n",
        "\n",
        "    \n",
        "    plt.xlim(Y[:, 0].min()-50, Y[:, 0].max()+50)\n",
        "    plt.ylim(Y[:, 1].min()-50, Y[:, 1].max()+50)\n",
        "            \n",
        "    plt.title('t-SNE visualization for {}'.format(word.title()))"
      ]
    },
    {
      "cell_type": "code",
      "execution_count": 14,
      "metadata": {
        "colab": {
          "base_uri": "https://localhost:8080/",
          "height": 250
        },
        "id": "jpUJDFwiNbG6",
        "outputId": "478322ba-3754-4716-c555-ee20862db2c5"
      },
      "outputs": [
        {
          "data": {
            "text/html": [
              "<div>\n",
              "<style scoped>\n",
              "    .dataframe tbody tr th:only-of-type {\n",
              "        vertical-align: middle;\n",
              "    }\n",
              "\n",
              "    .dataframe tbody tr th {\n",
              "        vertical-align: top;\n",
              "    }\n",
              "\n",
              "    .dataframe thead th {\n",
              "        text-align: right;\n",
              "    }\n",
              "</style>\n",
              "<table border=\"1\" class=\"dataframe\">\n",
              "  <thead>\n",
              "    <tr style=\"text-align: right;\">\n",
              "      <th></th>\n",
              "      <th>UserName</th>\n",
              "      <th>ScreenName</th>\n",
              "      <th>Location</th>\n",
              "      <th>TweetAt</th>\n",
              "      <th>OriginalTweet</th>\n",
              "      <th>Sentiment</th>\n",
              "      <th>NewOriginalTweet</th>\n",
              "    </tr>\n",
              "  </thead>\n",
              "  <tbody>\n",
              "    <tr>\n",
              "      <th>0</th>\n",
              "      <td>3799</td>\n",
              "      <td>48751</td>\n",
              "      <td>London</td>\n",
              "      <td>2020-03-16</td>\n",
              "      <td>@MeNyrbie @Phil_Gahan @Chrisitv https://t.co/i...</td>\n",
              "      <td>Neutral</td>\n",
              "      <td></td>\n",
              "    </tr>\n",
              "    <tr>\n",
              "      <th>1</th>\n",
              "      <td>3800</td>\n",
              "      <td>48752</td>\n",
              "      <td>UK</td>\n",
              "      <td>2020-03-16</td>\n",
              "      <td>advice Talk to your neighbours family to excha...</td>\n",
              "      <td>Positive</td>\n",
              "      <td>advice talk neighbour family exchange phone nu...</td>\n",
              "    </tr>\n",
              "    <tr>\n",
              "      <th>2</th>\n",
              "      <td>3801</td>\n",
              "      <td>48753</td>\n",
              "      <td>Vagabonds</td>\n",
              "      <td>2020-03-16</td>\n",
              "      <td>Coronavirus Australia: Woolworths to give elde...</td>\n",
              "      <td>Positive</td>\n",
              "      <td>coronavirus australia woolworth give elderly d...</td>\n",
              "    </tr>\n",
              "    <tr>\n",
              "      <th>3</th>\n",
              "      <td>3802</td>\n",
              "      <td>48754</td>\n",
              "      <td>London</td>\n",
              "      <td>2020-03-16</td>\n",
              "      <td>My food stock is not the only one which is emp...</td>\n",
              "      <td>Positive</td>\n",
              "      <td>food stock one empty please n't panic enough f...</td>\n",
              "    </tr>\n",
              "    <tr>\n",
              "      <th>4</th>\n",
              "      <td>3803</td>\n",
              "      <td>48755</td>\n",
              "      <td>London</td>\n",
              "      <td>2020-03-16</td>\n",
              "      <td>Me, ready to go at supermarket during the #COV...</td>\n",
              "      <td>Extremely Negative</td>\n",
              "      <td>ready go supermarket covid19 outbreak 'm paran...</td>\n",
              "    </tr>\n",
              "  </tbody>\n",
              "</table>\n",
              "</div>"
            ],
            "text/plain": [
              "   UserName  ScreenName   Location    TweetAt  \\\n",
              "0      3799       48751     London 2020-03-16   \n",
              "1      3800       48752         UK 2020-03-16   \n",
              "2      3801       48753  Vagabonds 2020-03-16   \n",
              "3      3802       48754     London 2020-03-16   \n",
              "4      3803       48755     London 2020-03-16   \n",
              "\n",
              "                                       OriginalTweet           Sentiment  \\\n",
              "0  @MeNyrbie @Phil_Gahan @Chrisitv https://t.co/i...             Neutral   \n",
              "1  advice Talk to your neighbours family to excha...            Positive   \n",
              "2  Coronavirus Australia: Woolworths to give elde...            Positive   \n",
              "3  My food stock is not the only one which is emp...            Positive   \n",
              "4  Me, ready to go at supermarket during the #COV...  Extremely Negative   \n",
              "\n",
              "                                    NewOriginalTweet  \n",
              "0                                                     \n",
              "1  advice talk neighbour family exchange phone nu...  \n",
              "2  coronavirus australia woolworth give elderly d...  \n",
              "3  food stock one empty please n't panic enough f...  \n",
              "4  ready go supermarket covid19 outbreak 'm paran...  "
            ]
          },
          "execution_count": 14,
          "metadata": {},
          "output_type": "execute_result"
        }
      ],
      "source": [
        "train_data['NewOriginalTweet'] = train_data[\"OriginalTweet\"].apply(lambda row : \" \".join(preprocess_text(row)))\n",
        "test_data['NewOriginalTweet']= test_data[\"OriginalTweet\"].apply(lambda row : \" \".join(preprocess_text(row)))\n",
        "\n",
        "train_data.head()"
      ]
    },
    {
      "cell_type": "code",
      "execution_count": 15,
      "metadata": {
        "colab": {
          "base_uri": "https://localhost:8080/",
          "height": 206
        },
        "id": "WBNgMNF8UpfM",
        "outputId": "a4f5e2e1-9ba2-469c-ff55-4216ef1982ec"
      },
      "outputs": [
        {
          "data": {
            "text/html": [
              "<div>\n",
              "<style scoped>\n",
              "    .dataframe tbody tr th:only-of-type {\n",
              "        vertical-align: middle;\n",
              "    }\n",
              "\n",
              "    .dataframe tbody tr th {\n",
              "        vertical-align: top;\n",
              "    }\n",
              "\n",
              "    .dataframe thead th {\n",
              "        text-align: right;\n",
              "    }\n",
              "</style>\n",
              "<table border=\"1\" class=\"dataframe\">\n",
              "  <thead>\n",
              "    <tr style=\"text-align: right;\">\n",
              "      <th></th>\n",
              "      <th>UserName</th>\n",
              "      <th>ScreenName</th>\n",
              "      <th>Location</th>\n",
              "      <th>TweetAt</th>\n",
              "      <th>OriginalTweet</th>\n",
              "      <th>Sentiment</th>\n",
              "      <th>NewOriginalTweet</th>\n",
              "    </tr>\n",
              "  </thead>\n",
              "  <tbody>\n",
              "    <tr>\n",
              "      <th>0</th>\n",
              "      <td>3799</td>\n",
              "      <td>48751</td>\n",
              "      <td>London</td>\n",
              "      <td>2020-03-16</td>\n",
              "      <td>@MeNyrbie @Phil_Gahan @Chrisitv https://t.co/i...</td>\n",
              "      <td>Neutral</td>\n",
              "      <td></td>\n",
              "    </tr>\n",
              "    <tr>\n",
              "      <th>1</th>\n",
              "      <td>3800</td>\n",
              "      <td>48752</td>\n",
              "      <td>UK</td>\n",
              "      <td>2020-03-16</td>\n",
              "      <td>advice Talk to your neighbours family to excha...</td>\n",
              "      <td>Positive</td>\n",
              "      <td>advice talk neighbour family exchange phone nu...</td>\n",
              "    </tr>\n",
              "    <tr>\n",
              "      <th>2</th>\n",
              "      <td>3801</td>\n",
              "      <td>48753</td>\n",
              "      <td>Vagabonds</td>\n",
              "      <td>2020-03-16</td>\n",
              "      <td>Coronavirus Australia: Woolworths to give elde...</td>\n",
              "      <td>Positive</td>\n",
              "      <td>coronavirus australia woolworth give elderly d...</td>\n",
              "    </tr>\n",
              "    <tr>\n",
              "      <th>3</th>\n",
              "      <td>3802</td>\n",
              "      <td>48754</td>\n",
              "      <td>London</td>\n",
              "      <td>2020-03-16</td>\n",
              "      <td>My food stock is not the only one which is emp...</td>\n",
              "      <td>Positive</td>\n",
              "      <td>food stock one empty please n't panic enough f...</td>\n",
              "    </tr>\n",
              "    <tr>\n",
              "      <th>4</th>\n",
              "      <td>3803</td>\n",
              "      <td>48755</td>\n",
              "      <td>London</td>\n",
              "      <td>2020-03-16</td>\n",
              "      <td>Me, ready to go at supermarket during the #COV...</td>\n",
              "      <td>Negative</td>\n",
              "      <td>ready go supermarket covid19 outbreak 'm paran...</td>\n",
              "    </tr>\n",
              "  </tbody>\n",
              "</table>\n",
              "</div>"
            ],
            "text/plain": [
              "   UserName  ScreenName   Location    TweetAt  \\\n",
              "0      3799       48751     London 2020-03-16   \n",
              "1      3800       48752         UK 2020-03-16   \n",
              "2      3801       48753  Vagabonds 2020-03-16   \n",
              "3      3802       48754     London 2020-03-16   \n",
              "4      3803       48755     London 2020-03-16   \n",
              "\n",
              "                                       OriginalTweet Sentiment  \\\n",
              "0  @MeNyrbie @Phil_Gahan @Chrisitv https://t.co/i...   Neutral   \n",
              "1  advice Talk to your neighbours family to excha...  Positive   \n",
              "2  Coronavirus Australia: Woolworths to give elde...  Positive   \n",
              "3  My food stock is not the only one which is emp...  Positive   \n",
              "4  Me, ready to go at supermarket during the #COV...  Negative   \n",
              "\n",
              "                                    NewOriginalTweet  \n",
              "0                                                     \n",
              "1  advice talk neighbour family exchange phone nu...  \n",
              "2  coronavirus australia woolworth give elderly d...  \n",
              "3  food stock one empty please n't panic enough f...  \n",
              "4  ready go supermarket covid19 outbreak 'm paran...  "
            ]
          },
          "execution_count": 15,
          "metadata": {},
          "output_type": "execute_result"
        }
      ],
      "source": [
        "#Grouping the sentiments into {Negative, Neutral, Positive}\n",
        "def groupSent(sent) : \n",
        "    if sent == \"Extremely Positive\": \n",
        "        return 'Positive'\n",
        "    elif sent == \"Extremely Negative\":\n",
        "        return 'Negative'\n",
        "    else :\n",
        "        return sent\n",
        "    \n",
        "train_data[\"Sentiment\"] = train_data[\"Sentiment\"].apply(lambda x: groupSent(x))\n",
        "test_data[\"Sentiment\"] = test_data[\"Sentiment\"].apply(lambda x: groupSent(x))\n",
        "train_data.head()"
      ]
    },
    {
      "cell_type": "code",
      "execution_count": 16,
      "metadata": {
        "colab": {
          "base_uri": "https://localhost:8080/",
          "height": 337
        },
        "id": "rrXrIXdkVH-o",
        "outputId": "c37d4ce6-6602-4923-a98a-508064a7acd3"
      },
      "outputs": [
        {
          "data": {
            "text/html": [
              "<div>\n",
              "<style scoped>\n",
              "    .dataframe tbody tr th:only-of-type {\n",
              "        vertical-align: middle;\n",
              "    }\n",
              "\n",
              "    .dataframe tbody tr th {\n",
              "        vertical-align: top;\n",
              "    }\n",
              "\n",
              "    .dataframe thead th {\n",
              "        text-align: right;\n",
              "    }\n",
              "</style>\n",
              "<table border=\"1\" class=\"dataframe\">\n",
              "  <thead>\n",
              "    <tr style=\"text-align: right;\">\n",
              "      <th></th>\n",
              "      <th>UserName</th>\n",
              "      <th>ScreenName</th>\n",
              "      <th>Location</th>\n",
              "      <th>TweetAt</th>\n",
              "      <th>OriginalTweet</th>\n",
              "      <th>Sentiment</th>\n",
              "      <th>NewOriginalTweet</th>\n",
              "      <th>target</th>\n",
              "    </tr>\n",
              "  </thead>\n",
              "  <tbody>\n",
              "    <tr>\n",
              "      <th>0</th>\n",
              "      <td>3799</td>\n",
              "      <td>48751</td>\n",
              "      <td>London</td>\n",
              "      <td>2020-03-16</td>\n",
              "      <td>@MeNyrbie @Phil_Gahan @Chrisitv https://t.co/i...</td>\n",
              "      <td>Neutral</td>\n",
              "      <td></td>\n",
              "      <td>1</td>\n",
              "    </tr>\n",
              "    <tr>\n",
              "      <th>1</th>\n",
              "      <td>3800</td>\n",
              "      <td>48752</td>\n",
              "      <td>UK</td>\n",
              "      <td>2020-03-16</td>\n",
              "      <td>advice Talk to your neighbours family to excha...</td>\n",
              "      <td>Positive</td>\n",
              "      <td>advice talk neighbour family exchange phone nu...</td>\n",
              "      <td>2</td>\n",
              "    </tr>\n",
              "    <tr>\n",
              "      <th>2</th>\n",
              "      <td>3801</td>\n",
              "      <td>48753</td>\n",
              "      <td>Vagabonds</td>\n",
              "      <td>2020-03-16</td>\n",
              "      <td>Coronavirus Australia: Woolworths to give elde...</td>\n",
              "      <td>Positive</td>\n",
              "      <td>coronavirus australia woolworth give elderly d...</td>\n",
              "      <td>2</td>\n",
              "    </tr>\n",
              "    <tr>\n",
              "      <th>3</th>\n",
              "      <td>3802</td>\n",
              "      <td>48754</td>\n",
              "      <td>London</td>\n",
              "      <td>2020-03-16</td>\n",
              "      <td>My food stock is not the only one which is emp...</td>\n",
              "      <td>Positive</td>\n",
              "      <td>food stock one empty please n't panic enough f...</td>\n",
              "      <td>2</td>\n",
              "    </tr>\n",
              "    <tr>\n",
              "      <th>4</th>\n",
              "      <td>3803</td>\n",
              "      <td>48755</td>\n",
              "      <td>London</td>\n",
              "      <td>2020-03-16</td>\n",
              "      <td>Me, ready to go at supermarket during the #COV...</td>\n",
              "      <td>Negative</td>\n",
              "      <td>ready go supermarket covid19 outbreak 'm paran...</td>\n",
              "      <td>0</td>\n",
              "    </tr>\n",
              "  </tbody>\n",
              "</table>\n",
              "</div>"
            ],
            "text/plain": [
              "   UserName  ScreenName   Location    TweetAt  \\\n",
              "0      3799       48751     London 2020-03-16   \n",
              "1      3800       48752         UK 2020-03-16   \n",
              "2      3801       48753  Vagabonds 2020-03-16   \n",
              "3      3802       48754     London 2020-03-16   \n",
              "4      3803       48755     London 2020-03-16   \n",
              "\n",
              "                                       OriginalTweet Sentiment  \\\n",
              "0  @MeNyrbie @Phil_Gahan @Chrisitv https://t.co/i...   Neutral   \n",
              "1  advice Talk to your neighbours family to excha...  Positive   \n",
              "2  Coronavirus Australia: Woolworths to give elde...  Positive   \n",
              "3  My food stock is not the only one which is emp...  Positive   \n",
              "4  Me, ready to go at supermarket during the #COV...  Negative   \n",
              "\n",
              "                                    NewOriginalTweet  target  \n",
              "0                                                          1  \n",
              "1  advice talk neighbour family exchange phone nu...       2  \n",
              "2  coronavirus australia woolworth give elderly d...       2  \n",
              "3  food stock one empty please n't panic enough f...       2  \n",
              "4  ready go supermarket covid19 outbreak 'm paran...       0  "
            ]
          },
          "execution_count": 16,
          "metadata": {},
          "output_type": "execute_result"
        }
      ],
      "source": [
        "#Encoding of Sentiments into Numerical Values\n",
        "Encoding = {\"Negative\": 0, \"Neutral\": 1, \"Positive\": 2}\n",
        "train_data[\"target\"] = train_data[\"Sentiment\"].map(Encoding)\n",
        "test_data[\"target\"] = test_data[\"Sentiment\"].map(Encoding)\n",
        "\n",
        "train_data.head()"
      ]
    },
    {
      "cell_type": "code",
      "execution_count": 17,
      "metadata": {},
      "outputs": [
        {
          "data": {
            "image/png": "[encoded data removed]",
            "text/plain": [
              "<Figure size 640x480 with 1 Axes>"
            ]
          },
          "metadata": {},
          "output_type": "display_data"
        }
      ],
      "source": [
        "#Plot the target distribution after encoding\n",
        "counts = train_data['target'].value_counts()\n",
        "ax = counts.plot(kind='bar')\n",
        "\n",
        "plt.title(\"Counts for grouped and encoded targets\")\n",
        "plt.xlabel(\"Target\")\n",
        "plt.ylabel(\"Count\")\n",
        "\n",
        "for i, v in counts.reset_index().iterrows():\n",
        "    ax.text(i, v.target, str(v.target), color='blue', fontweight='bold', ha='center')\n",
        "\n",
        "plt.show()"
      ]
    },
    {
      "cell_type": "code",
      "execution_count": 18,
      "metadata": {
        "colab": {
          "base_uri": "https://localhost:8080/",
          "height": 547
        },
        "id": "DtMNUIZuVvS5",
        "outputId": "fcd1f1c7-0bd1-4640-da4d-9b5ce91f0a96"
      },
      "outputs": [
        {
          "data": {
            "text/html": [
              "<div>\n",
              "<style scoped>\n",
              "    .dataframe tbody tr th:only-of-type {\n",
              "        vertical-align: middle;\n",
              "    }\n",
              "\n",
              "    .dataframe tbody tr th {\n",
              "        vertical-align: top;\n",
              "    }\n",
              "\n",
              "    .dataframe thead th {\n",
              "        text-align: right;\n",
              "    }\n",
              "</style>\n",
              "<table border=\"1\" class=\"dataframe\">\n",
              "  <thead>\n",
              "    <tr style=\"text-align: right;\">\n",
              "      <th></th>\n",
              "      <th>UserName</th>\n",
              "      <th>ScreenName</th>\n",
              "      <th>Location</th>\n",
              "      <th>TweetAt</th>\n",
              "      <th>OriginalTweet</th>\n",
              "      <th>Sentiment</th>\n",
              "      <th>NewOriginalTweet</th>\n",
              "      <th>target</th>\n",
              "      <th>word_count</th>\n",
              "      <th>char_count</th>\n",
              "      <th>sentence_count</th>\n",
              "      <th>avg_word_length</th>\n",
              "      <th>avg_sentence_length</th>\n",
              "    </tr>\n",
              "  </thead>\n",
              "  <tbody>\n",
              "    <tr>\n",
              "      <th>0</th>\n",
              "      <td>3799</td>\n",
              "      <td>48751</td>\n",
              "      <td>London</td>\n",
              "      <td>2020-03-16</td>\n",
              "      <td>@MeNyrbie @Phil_Gahan @Chrisitv https://t.co/i...</td>\n",
              "      <td>Neutral</td>\n",
              "      <td></td>\n",
              "      <td>1</td>\n",
              "      <td>1</td>\n",
              "      <td>0</td>\n",
              "      <td>1</td>\n",
              "      <td>0.000000</td>\n",
              "      <td>1.0</td>\n",
              "    </tr>\n",
              "    <tr>\n",
              "      <th>1</th>\n",
              "      <td>3800</td>\n",
              "      <td>48752</td>\n",
              "      <td>UK</td>\n",
              "      <td>2020-03-16</td>\n",
              "      <td>advice Talk to your neighbours family to excha...</td>\n",
              "      <td>Positive</td>\n",
              "      <td>advice talk neighbour family exchange phone nu...</td>\n",
              "      <td>2</td>\n",
              "      <td>27</td>\n",
              "      <td>159</td>\n",
              "      <td>1</td>\n",
              "      <td>5.888889</td>\n",
              "      <td>27.0</td>\n",
              "    </tr>\n",
              "    <tr>\n",
              "      <th>2</th>\n",
              "      <td>3801</td>\n",
              "      <td>48753</td>\n",
              "      <td>Vagabonds</td>\n",
              "      <td>2020-03-16</td>\n",
              "      <td>Coronavirus Australia: Woolworths to give elde...</td>\n",
              "      <td>Positive</td>\n",
              "      <td>coronavirus australia woolworth give elderly d...</td>\n",
              "      <td>2</td>\n",
              "      <td>12</td>\n",
              "      <td>89</td>\n",
              "      <td>1</td>\n",
              "      <td>7.416667</td>\n",
              "      <td>12.0</td>\n",
              "    </tr>\n",
              "    <tr>\n",
              "      <th>3</th>\n",
              "      <td>3802</td>\n",
              "      <td>48754</td>\n",
              "      <td>London</td>\n",
              "      <td>2020-03-16</td>\n",
              "      <td>My food stock is not the only one which is emp...</td>\n",
              "      <td>Positive</td>\n",
              "      <td>food stock one empty please n't panic enough f...</td>\n",
              "      <td>2</td>\n",
              "      <td>16</td>\n",
              "      <td>73</td>\n",
              "      <td>1</td>\n",
              "      <td>4.562500</td>\n",
              "      <td>16.0</td>\n",
              "    </tr>\n",
              "    <tr>\n",
              "      <th>4</th>\n",
              "      <td>3803</td>\n",
              "      <td>48755</td>\n",
              "      <td>London</td>\n",
              "      <td>2020-03-16</td>\n",
              "      <td>Me, ready to go at supermarket during the #COV...</td>\n",
              "      <td>Negative</td>\n",
              "      <td>ready go supermarket covid19 outbreak 'm paran...</td>\n",
              "      <td>0</td>\n",
              "      <td>19</td>\n",
              "      <td>116</td>\n",
              "      <td>1</td>\n",
              "      <td>6.105263</td>\n",
              "      <td>19.0</td>\n",
              "    </tr>\n",
              "  </tbody>\n",
              "</table>\n",
              "</div>"
            ],
            "text/plain": [
              "   UserName  ScreenName   Location    TweetAt  \\\n",
              "0      3799       48751     London 2020-03-16   \n",
              "1      3800       48752         UK 2020-03-16   \n",
              "2      3801       48753  Vagabonds 2020-03-16   \n",
              "3      3802       48754     London 2020-03-16   \n",
              "4      3803       48755     London 2020-03-16   \n",
              "\n",
              "                                       OriginalTweet Sentiment  \\\n",
              "0  @MeNyrbie @Phil_Gahan @Chrisitv https://t.co/i...   Neutral   \n",
              "1  advice Talk to your neighbours family to excha...  Positive   \n",
              "2  Coronavirus Australia: Woolworths to give elde...  Positive   \n",
              "3  My food stock is not the only one which is emp...  Positive   \n",
              "4  Me, ready to go at supermarket during the #COV...  Negative   \n",
              "\n",
              "                                    NewOriginalTweet  target  word_count  \\\n",
              "0                                                          1           1   \n",
              "1  advice talk neighbour family exchange phone nu...       2          27   \n",
              "2  coronavirus australia woolworth give elderly d...       2          12   \n",
              "3  food stock one empty please n't panic enough f...       2          16   \n",
              "4  ready go supermarket covid19 outbreak 'm paran...       0          19   \n",
              "\n",
              "   char_count  sentence_count  avg_word_length  avg_sentence_length  \n",
              "0           0               1         0.000000                  1.0  \n",
              "1         159               1         5.888889                 27.0  \n",
              "2          89               1         7.416667                 12.0  \n",
              "3          73               1         4.562500                 16.0  \n",
              "4         116               1         6.105263                 19.0  "
            ]
          },
          "execution_count": 18,
          "metadata": {},
          "output_type": "execute_result"
        }
      ],
      "source": [
        "#Word count: counts the number of tokens in the text (separated by a space)\n",
        "train_data['word_count'] = train_data['NewOriginalTweet'].apply(lambda x: len(str(x).split(\" \")))\n",
        "test_data['word_count'] = test_data['NewOriginalTweet'].apply(lambda x: len(str(x).split(\" \")))\n",
        "\n",
        "#Character count: sum the number of characters of each token\n",
        "train_data['char_count'] = train_data['NewOriginalTweet'].apply(lambda x: sum(len(word) for word in str(x).split(\" \")))\n",
        "test_data['char_count'] = test_data['NewOriginalTweet'].apply(lambda x: sum(len(word) for word in str(x).split(\" \")))\n",
        "\n",
        "#Sentence count: count the number of sentences (separated by a period)\n",
        "train_data['sentence_count'] = train_data['NewOriginalTweet'].apply(lambda x: len(str(x).split(\".\")))\n",
        "test_data['sentence_count'] = test_data['NewOriginalTweet'].apply(lambda x: len(str(x).split(\".\")))\n",
        "\n",
        "#Average word length: sum of words length divided by the number of words (character count/word count)\n",
        "train_data['avg_word_length'] = train_data['char_count'] / train_data['word_count']\n",
        "test_data['avg_word_length'] = test_data['char_count'] / test_data['word_count']\n",
        "\n",
        "#Average sentence length: sum of sentences length divided by the number of sentences (word count/sentence count)\n",
        "train_data['avg_sentence_length'] = train_data['word_count'] / train_data['sentence_count']\n",
        "test_data['avg_sentence_length'] = test_data['word_count'] / test_data['sentence_count']\n",
        "\n",
        "train_data.head()"
      ]
    },
    {
      "cell_type": "code",
      "execution_count": 19,
      "metadata": {
        "colab": {
          "base_uri": "https://localhost:8080/",
          "height": 547
        },
        "id": "ga77oIzhcCSC",
        "outputId": "2e3b3edd-bd90-4ca1-cf92-c48591657828"
      },
      "outputs": [
        {
          "data": {
            "text/html": [
              "<div>\n",
              "<style scoped>\n",
              "    .dataframe tbody tr th:only-of-type {\n",
              "        vertical-align: middle;\n",
              "    }\n",
              "\n",
              "    .dataframe tbody tr th {\n",
              "        vertical-align: top;\n",
              "    }\n",
              "\n",
              "    .dataframe thead th {\n",
              "        text-align: right;\n",
              "    }\n",
              "</style>\n",
              "<table border=\"1\" class=\"dataframe\">\n",
              "  <thead>\n",
              "    <tr style=\"text-align: right;\">\n",
              "      <th></th>\n",
              "      <th>UserName</th>\n",
              "      <th>ScreenName</th>\n",
              "      <th>Location</th>\n",
              "      <th>TweetAt</th>\n",
              "      <th>OriginalTweet</th>\n",
              "      <th>Sentiment</th>\n",
              "      <th>NewOriginalTweet</th>\n",
              "      <th>target</th>\n",
              "      <th>word_count</th>\n",
              "      <th>char_count</th>\n",
              "      <th>sentence_count</th>\n",
              "      <th>avg_word_length</th>\n",
              "      <th>avg_sentence_length</th>\n",
              "      <th>unique_word_count</th>\n",
              "      <th>unique_vs_words</th>\n",
              "    </tr>\n",
              "  </thead>\n",
              "  <tbody>\n",
              "    <tr>\n",
              "      <th>0</th>\n",
              "      <td>3799</td>\n",
              "      <td>48751</td>\n",
              "      <td>London</td>\n",
              "      <td>2020-03-16</td>\n",
              "      <td>@MeNyrbie @Phil_Gahan @Chrisitv https://t.co/i...</td>\n",
              "      <td>Neutral</td>\n",
              "      <td></td>\n",
              "      <td>1</td>\n",
              "      <td>1</td>\n",
              "      <td>0</td>\n",
              "      <td>1</td>\n",
              "      <td>0.000000</td>\n",
              "      <td>1.0</td>\n",
              "      <td>0</td>\n",
              "      <td>0.000000</td>\n",
              "    </tr>\n",
              "    <tr>\n",
              "      <th>1</th>\n",
              "      <td>3800</td>\n",
              "      <td>48752</td>\n",
              "      <td>UK</td>\n",
              "      <td>2020-03-16</td>\n",
              "      <td>advice Talk to your neighbours family to excha...</td>\n",
              "      <td>Positive</td>\n",
              "      <td>advice talk neighbour family exchange phone nu...</td>\n",
              "      <td>2</td>\n",
              "      <td>27</td>\n",
              "      <td>159</td>\n",
              "      <td>1</td>\n",
              "      <td>5.888889</td>\n",
              "      <td>27.0</td>\n",
              "      <td>24</td>\n",
              "      <td>0.888889</td>\n",
              "    </tr>\n",
              "    <tr>\n",
              "      <th>2</th>\n",
              "      <td>3801</td>\n",
              "      <td>48753</td>\n",
              "      <td>Vagabonds</td>\n",
              "      <td>2020-03-16</td>\n",
              "      <td>Coronavirus Australia: Woolworths to give elde...</td>\n",
              "      <td>Positive</td>\n",
              "      <td>coronavirus australia woolworth give elderly d...</td>\n",
              "      <td>2</td>\n",
              "      <td>12</td>\n",
              "      <td>89</td>\n",
              "      <td>1</td>\n",
              "      <td>7.416667</td>\n",
              "      <td>12.0</td>\n",
              "      <td>12</td>\n",
              "      <td>1.000000</td>\n",
              "    </tr>\n",
              "    <tr>\n",
              "      <th>3</th>\n",
              "      <td>3802</td>\n",
              "      <td>48754</td>\n",
              "      <td>London</td>\n",
              "      <td>2020-03-16</td>\n",
              "      <td>My food stock is not the only one which is emp...</td>\n",
              "      <td>Positive</td>\n",
              "      <td>food stock one empty please n't panic enough f...</td>\n",
              "      <td>2</td>\n",
              "      <td>16</td>\n",
              "      <td>73</td>\n",
              "      <td>1</td>\n",
              "      <td>4.562500</td>\n",
              "      <td>16.0</td>\n",
              "      <td>14</td>\n",
              "      <td>0.875000</td>\n",
              "    </tr>\n",
              "    <tr>\n",
              "      <th>4</th>\n",
              "      <td>3803</td>\n",
              "      <td>48755</td>\n",
              "      <td>London</td>\n",
              "      <td>2020-03-16</td>\n",
              "      <td>Me, ready to go at supermarket during the #COV...</td>\n",
              "      <td>Negative</td>\n",
              "      <td>ready go supermarket covid19 outbreak 'm paran...</td>\n",
              "      <td>0</td>\n",
              "      <td>19</td>\n",
              "      <td>116</td>\n",
              "      <td>1</td>\n",
              "      <td>6.105263</td>\n",
              "      <td>19.0</td>\n",
              "      <td>19</td>\n",
              "      <td>1.000000</td>\n",
              "    </tr>\n",
              "  </tbody>\n",
              "</table>\n",
              "</div>"
            ],
            "text/plain": [
              "   UserName  ScreenName   Location    TweetAt  \\\n",
              "0      3799       48751     London 2020-03-16   \n",
              "1      3800       48752         UK 2020-03-16   \n",
              "2      3801       48753  Vagabonds 2020-03-16   \n",
              "3      3802       48754     London 2020-03-16   \n",
              "4      3803       48755     London 2020-03-16   \n",
              "\n",
              "                                       OriginalTweet Sentiment  \\\n",
              "0  @MeNyrbie @Phil_Gahan @Chrisitv https://t.co/i...   Neutral   \n",
              "1  advice Talk to your neighbours family to excha...  Positive   \n",
              "2  Coronavirus Australia: Woolworths to give elde...  Positive   \n",
              "3  My food stock is not the only one which is emp...  Positive   \n",
              "4  Me, ready to go at supermarket during the #COV...  Negative   \n",
              "\n",
              "                                    NewOriginalTweet  target  word_count  \\\n",
              "0                                                          1           1   \n",
              "1  advice talk neighbour family exchange phone nu...       2          27   \n",
              "2  coronavirus australia woolworth give elderly d...       2          12   \n",
              "3  food stock one empty please n't panic enough f...       2          16   \n",
              "4  ready go supermarket covid19 outbreak 'm paran...       0          19   \n",
              "\n",
              "   char_count  sentence_count  avg_word_length  avg_sentence_length  \\\n",
              "0           0               1         0.000000                  1.0   \n",
              "1         159               1         5.888889                 27.0   \n",
              "2          89               1         7.416667                 12.0   \n",
              "3          73               1         4.562500                 16.0   \n",
              "4         116               1         6.105263                 19.0   \n",
              "\n",
              "   unique_word_count  unique_vs_words  \n",
              "0                  0         0.000000  \n",
              "1                 24         0.888889  \n",
              "2                 12         1.000000  \n",
              "3                 14         0.875000  \n",
              "4                 19         1.000000  "
            ]
          },
          "execution_count": 19,
          "metadata": {},
          "output_type": "execute_result"
        }
      ],
      "source": [
        "#Count the number of unique words\n",
        "def count_unique_words(text):\n",
        "    return len(set(text.split()))\n",
        "train_data['unique_word_count'] = train_data['NewOriginalTweet'].apply(lambda x:count_unique_words(x))\n",
        "test_data['unique_word_count'] = test_data['NewOriginalTweet'].apply(lambda x:count_unique_words(x))\n",
        "\n",
        "# Ratio of unique words to a total number of words.\n",
        "train_data['unique_vs_words'] = train_data['unique_word_count']/train_data['word_count']\n",
        "test_data['unique_vs_words'] = test_data['unique_word_count']/test_data['word_count']\n",
        "\n",
        "train_data.head()"
      ]
    },
    {
      "cell_type": "code",
      "execution_count": 20,
      "metadata": {
        "colab": {
          "base_uri": "https://localhost:8080/",
          "height": 547
        },
        "id": "OoQR4Xo1cFm-",
        "outputId": "4c1cf999-68ff-4dd2-9297-daaf00f9077c"
      },
      "outputs": [
        {
          "data": {
            "text/html": [
              "<div>\n",
              "<style scoped>\n",
              "    .dataframe tbody tr th:only-of-type {\n",
              "        vertical-align: middle;\n",
              "    }\n",
              "\n",
              "    .dataframe tbody tr th {\n",
              "        vertical-align: top;\n",
              "    }\n",
              "\n",
              "    .dataframe thead th {\n",
              "        text-align: right;\n",
              "    }\n",
              "</style>\n",
              "<table border=\"1\" class=\"dataframe\">\n",
              "  <thead>\n",
              "    <tr style=\"text-align: right;\">\n",
              "      <th></th>\n",
              "      <th>UserName</th>\n",
              "      <th>ScreenName</th>\n",
              "      <th>Location</th>\n",
              "      <th>TweetAt</th>\n",
              "      <th>OriginalTweet</th>\n",
              "      <th>Sentiment</th>\n",
              "      <th>NewOriginalTweet</th>\n",
              "      <th>target</th>\n",
              "      <th>word_count</th>\n",
              "      <th>char_count</th>\n",
              "      <th>sentence_count</th>\n",
              "      <th>avg_word_length</th>\n",
              "      <th>avg_sentence_length</th>\n",
              "      <th>unique_word_count</th>\n",
              "      <th>unique_vs_words</th>\n",
              "    </tr>\n",
              "  </thead>\n",
              "  <tbody>\n",
              "    <tr>\n",
              "      <th>1</th>\n",
              "      <td>3800</td>\n",
              "      <td>48752</td>\n",
              "      <td>UK</td>\n",
              "      <td>2020-03-16</td>\n",
              "      <td>advice Talk to your neighbours family to excha...</td>\n",
              "      <td>Positive</td>\n",
              "      <td>advice talk neighbour family exchange phone nu...</td>\n",
              "      <td>2</td>\n",
              "      <td>27</td>\n",
              "      <td>159</td>\n",
              "      <td>1</td>\n",
              "      <td>5.888889</td>\n",
              "      <td>27.0</td>\n",
              "      <td>24</td>\n",
              "      <td>0.888889</td>\n",
              "    </tr>\n",
              "    <tr>\n",
              "      <th>2</th>\n",
              "      <td>3801</td>\n",
              "      <td>48753</td>\n",
              "      <td>Vagabonds</td>\n",
              "      <td>2020-03-16</td>\n",
              "      <td>Coronavirus Australia: Woolworths to give elde...</td>\n",
              "      <td>Positive</td>\n",
              "      <td>coronavirus australia woolworth give elderly d...</td>\n",
              "      <td>2</td>\n",
              "      <td>12</td>\n",
              "      <td>89</td>\n",
              "      <td>1</td>\n",
              "      <td>7.416667</td>\n",
              "      <td>12.0</td>\n",
              "      <td>12</td>\n",
              "      <td>1.000000</td>\n",
              "    </tr>\n",
              "    <tr>\n",
              "      <th>3</th>\n",
              "      <td>3802</td>\n",
              "      <td>48754</td>\n",
              "      <td>London</td>\n",
              "      <td>2020-03-16</td>\n",
              "      <td>My food stock is not the only one which is emp...</td>\n",
              "      <td>Positive</td>\n",
              "      <td>food stock one empty please n't panic enough f...</td>\n",
              "      <td>2</td>\n",
              "      <td>16</td>\n",
              "      <td>73</td>\n",
              "      <td>1</td>\n",
              "      <td>4.562500</td>\n",
              "      <td>16.0</td>\n",
              "      <td>14</td>\n",
              "      <td>0.875000</td>\n",
              "    </tr>\n",
              "    <tr>\n",
              "      <th>4</th>\n",
              "      <td>3803</td>\n",
              "      <td>48755</td>\n",
              "      <td>London</td>\n",
              "      <td>2020-03-16</td>\n",
              "      <td>Me, ready to go at supermarket during the #COV...</td>\n",
              "      <td>Negative</td>\n",
              "      <td>ready go supermarket covid19 outbreak 'm paran...</td>\n",
              "      <td>0</td>\n",
              "      <td>19</td>\n",
              "      <td>116</td>\n",
              "      <td>1</td>\n",
              "      <td>6.105263</td>\n",
              "      <td>19.0</td>\n",
              "      <td>19</td>\n",
              "      <td>1.000000</td>\n",
              "    </tr>\n",
              "    <tr>\n",
              "      <th>5</th>\n",
              "      <td>3804</td>\n",
              "      <td>48756</td>\n",
              "      <td>ÃT: 36.319708,-82.363649</td>\n",
              "      <td>2020-03-16</td>\n",
              "      <td>As news of the regionÂs first confirmed COVID...</td>\n",
              "      <td>Positive</td>\n",
              "      <td>news region first confirmed covid-19 case came...</td>\n",
              "      <td>2</td>\n",
              "      <td>25</td>\n",
              "      <td>144</td>\n",
              "      <td>1</td>\n",
              "      <td>5.760000</td>\n",
              "      <td>25.0</td>\n",
              "      <td>25</td>\n",
              "      <td>1.000000</td>\n",
              "    </tr>\n",
              "  </tbody>\n",
              "</table>\n",
              "</div>"
            ],
            "text/plain": [
              "   UserName  ScreenName                   Location    TweetAt  \\\n",
              "1      3800       48752                         UK 2020-03-16   \n",
              "2      3801       48753                  Vagabonds 2020-03-16   \n",
              "3      3802       48754                     London 2020-03-16   \n",
              "4      3803       48755                     London 2020-03-16   \n",
              "5      3804       48756  ÃT: 36.319708,-82.363649 2020-03-16   \n",
              "\n",
              "                                       OriginalTweet Sentiment  \\\n",
              "1  advice Talk to your neighbours family to excha...  Positive   \n",
              "2  Coronavirus Australia: Woolworths to give elde...  Positive   \n",
              "3  My food stock is not the only one which is emp...  Positive   \n",
              "4  Me, ready to go at supermarket during the #COV...  Negative   \n",
              "5  As news of the regionÂs first confirmed COVID...  Positive   \n",
              "\n",
              "                                    NewOriginalTweet  target  word_count  \\\n",
              "1  advice talk neighbour family exchange phone nu...       2          27   \n",
              "2  coronavirus australia woolworth give elderly d...       2          12   \n",
              "3  food stock one empty please n't panic enough f...       2          16   \n",
              "4  ready go supermarket covid19 outbreak 'm paran...       0          19   \n",
              "5  news region first confirmed covid-19 case came...       2          25   \n",
              "\n",
              "   char_count  sentence_count  avg_word_length  avg_sentence_length  \\\n",
              "1         159               1         5.888889                 27.0   \n",
              "2          89               1         7.416667                 12.0   \n",
              "3          73               1         4.562500                 16.0   \n",
              "4         116               1         6.105263                 19.0   \n",
              "5         144               1         5.760000                 25.0   \n",
              "\n",
              "   unique_word_count  unique_vs_words  \n",
              "1                 24         0.888889  \n",
              "2                 12         1.000000  \n",
              "3                 14         0.875000  \n",
              "4                 19         1.000000  \n",
              "5                 25         1.000000  "
            ]
          },
          "execution_count": 20,
          "metadata": {},
          "output_type": "execute_result"
        }
      ],
      "source": [
        "#Removal of rows with empty tweets.\n",
        "new_train_data = train_data[train_data[\"char_count\"] > 0]\n",
        "new_test_data = test_data[test_data[\"char_count\"] > 0]\n",
        "\n",
        "new_train_data.head()"
      ]
    },
    {
      "cell_type": "markdown",
      "metadata": {
        "id": "i02zKcDYIhFx"
      },
      "source": [
        "## Dropping Original Tweets"
      ]
    },
    {
      "cell_type": "code",
      "execution_count": 21,
      "metadata": {
        "colab": {
          "base_uri": "https://localhost:8080/"
        },
        "id": "hMepSJIfPxHa",
        "outputId": "1c1d5925-6481-4800-97e1-df5c6ba7236e"
      },
      "outputs": [
        {
          "name": "stderr",
          "output_type": "stream",
          "text": [
            "C:\\Users\\Shan Shan\\AppData\\Local\\Temp\\ipykernel_23232\\2565779674.py:1: SettingWithCopyWarning:\n",
            "\n",
            "\n",
            "A value is trying to be set on a copy of a slice from a DataFrame\n",
            "\n",
            "See the caveats in the documentation: https://pandas.pydata.org/pandas-docs/stable/user_guide/indexing.html#returning-a-view-versus-a-copy\n",
            "\n"
          ]
        },
        {
          "data": {
            "text/html": [
              "<div>\n",
              "<style scoped>\n",
              "    .dataframe tbody tr th:only-of-type {\n",
              "        vertical-align: middle;\n",
              "    }\n",
              "\n",
              "    .dataframe tbody tr th {\n",
              "        vertical-align: top;\n",
              "    }\n",
              "\n",
              "    .dataframe thead th {\n",
              "        text-align: right;\n",
              "    }\n",
              "</style>\n",
              "<table border=\"1\" class=\"dataframe\">\n",
              "  <thead>\n",
              "    <tr style=\"text-align: right;\">\n",
              "      <th></th>\n",
              "      <th>UserName</th>\n",
              "      <th>ScreenName</th>\n",
              "      <th>Location</th>\n",
              "      <th>TweetAt</th>\n",
              "      <th>Sentiment</th>\n",
              "      <th>NewOriginalTweet</th>\n",
              "      <th>target</th>\n",
              "      <th>word_count</th>\n",
              "      <th>char_count</th>\n",
              "      <th>sentence_count</th>\n",
              "      <th>avg_word_length</th>\n",
              "      <th>avg_sentence_length</th>\n",
              "      <th>unique_word_count</th>\n",
              "      <th>unique_vs_words</th>\n",
              "    </tr>\n",
              "  </thead>\n",
              "  <tbody>\n",
              "    <tr>\n",
              "      <th>1</th>\n",
              "      <td>3800</td>\n",
              "      <td>48752</td>\n",
              "      <td>UK</td>\n",
              "      <td>2020-03-16</td>\n",
              "      <td>Positive</td>\n",
              "      <td>advice talk neighbour family exchange phone nu...</td>\n",
              "      <td>2</td>\n",
              "      <td>27</td>\n",
              "      <td>159</td>\n",
              "      <td>1</td>\n",
              "      <td>5.888889</td>\n",
              "      <td>27.0</td>\n",
              "      <td>24</td>\n",
              "      <td>0.888889</td>\n",
              "    </tr>\n",
              "    <tr>\n",
              "      <th>2</th>\n",
              "      <td>3801</td>\n",
              "      <td>48753</td>\n",
              "      <td>Vagabonds</td>\n",
              "      <td>2020-03-16</td>\n",
              "      <td>Positive</td>\n",
              "      <td>coronavirus australia woolworth give elderly d...</td>\n",
              "      <td>2</td>\n",
              "      <td>12</td>\n",
              "      <td>89</td>\n",
              "      <td>1</td>\n",
              "      <td>7.416667</td>\n",
              "      <td>12.0</td>\n",
              "      <td>12</td>\n",
              "      <td>1.000000</td>\n",
              "    </tr>\n",
              "    <tr>\n",
              "      <th>3</th>\n",
              "      <td>3802</td>\n",
              "      <td>48754</td>\n",
              "      <td>London</td>\n",
              "      <td>2020-03-16</td>\n",
              "      <td>Positive</td>\n",
              "      <td>food stock one empty please n't panic enough f...</td>\n",
              "      <td>2</td>\n",
              "      <td>16</td>\n",
              "      <td>73</td>\n",
              "      <td>1</td>\n",
              "      <td>4.562500</td>\n",
              "      <td>16.0</td>\n",
              "      <td>14</td>\n",
              "      <td>0.875000</td>\n",
              "    </tr>\n",
              "    <tr>\n",
              "      <th>4</th>\n",
              "      <td>3803</td>\n",
              "      <td>48755</td>\n",
              "      <td>London</td>\n",
              "      <td>2020-03-16</td>\n",
              "      <td>Negative</td>\n",
              "      <td>ready go supermarket covid19 outbreak 'm paran...</td>\n",
              "      <td>0</td>\n",
              "      <td>19</td>\n",
              "      <td>116</td>\n",
              "      <td>1</td>\n",
              "      <td>6.105263</td>\n",
              "      <td>19.0</td>\n",
              "      <td>19</td>\n",
              "      <td>1.000000</td>\n",
              "    </tr>\n",
              "    <tr>\n",
              "      <th>5</th>\n",
              "      <td>3804</td>\n",
              "      <td>48756</td>\n",
              "      <td>ÃT: 36.319708,-82.363649</td>\n",
              "      <td>2020-03-16</td>\n",
              "      <td>Positive</td>\n",
              "      <td>news region first confirmed covid-19 case came...</td>\n",
              "      <td>2</td>\n",
              "      <td>25</td>\n",
              "      <td>144</td>\n",
              "      <td>1</td>\n",
              "      <td>5.760000</td>\n",
              "      <td>25.0</td>\n",
              "      <td>25</td>\n",
              "      <td>1.000000</td>\n",
              "    </tr>\n",
              "  </tbody>\n",
              "</table>\n",
              "</div>"
            ],
            "text/plain": [
              "   UserName  ScreenName                   Location    TweetAt Sentiment  \\\n",
              "1      3800       48752                         UK 2020-03-16  Positive   \n",
              "2      3801       48753                  Vagabonds 2020-03-16  Positive   \n",
              "3      3802       48754                     London 2020-03-16  Positive   \n",
              "4      3803       48755                     London 2020-03-16  Negative   \n",
              "5      3804       48756  ÃT: 36.319708,-82.363649 2020-03-16  Positive   \n",
              "\n",
              "                                    NewOriginalTweet  target  word_count  \\\n",
              "1  advice talk neighbour family exchange phone nu...       2          27   \n",
              "2  coronavirus australia woolworth give elderly d...       2          12   \n",
              "3  food stock one empty please n't panic enough f...       2          16   \n",
              "4  ready go supermarket covid19 outbreak 'm paran...       0          19   \n",
              "5  news region first confirmed covid-19 case came...       2          25   \n",
              "\n",
              "   char_count  sentence_count  avg_word_length  avg_sentence_length  \\\n",
              "1         159               1         5.888889                 27.0   \n",
              "2          89               1         7.416667                 12.0   \n",
              "3          73               1         4.562500                 16.0   \n",
              "4         116               1         6.105263                 19.0   \n",
              "5         144               1         5.760000                 25.0   \n",
              "\n",
              "   unique_word_count  unique_vs_words  \n",
              "1                 24         0.888889  \n",
              "2                 12         1.000000  \n",
              "3                 14         0.875000  \n",
              "4                 19         1.000000  \n",
              "5                 25         1.000000  "
            ]
          },
          "execution_count": 21,
          "metadata": {},
          "output_type": "execute_result"
        }
      ],
      "source": [
        "new_train_data.drop(['OriginalTweet'], axis=1, inplace=True)\n",
        "\n",
        "new_train_data.head()"
      ]
    },
    {
      "cell_type": "code",
      "execution_count": 22,
      "metadata": {
        "id": "JePLjdmvSjoD"
      },
      "outputs": [
        {
          "name": "stderr",
          "output_type": "stream",
          "text": [
            "C:\\Users\\Shan Shan\\AppData\\Local\\Temp\\ipykernel_23232\\968022760.py:1: SettingWithCopyWarning:\n",
            "\n",
            "\n",
            "A value is trying to be set on a copy of a slice from a DataFrame\n",
            "\n",
            "See the caveats in the documentation: https://pandas.pydata.org/pandas-docs/stable/user_guide/indexing.html#returning-a-view-versus-a-copy\n",
            "\n"
          ]
        },
        {
          "data": {
            "text/html": [
              "<div>\n",
              "<style scoped>\n",
              "    .dataframe tbody tr th:only-of-type {\n",
              "        vertical-align: middle;\n",
              "    }\n",
              "\n",
              "    .dataframe tbody tr th {\n",
              "        vertical-align: top;\n",
              "    }\n",
              "\n",
              "    .dataframe thead th {\n",
              "        text-align: right;\n",
              "    }\n",
              "</style>\n",
              "<table border=\"1\" class=\"dataframe\">\n",
              "  <thead>\n",
              "    <tr style=\"text-align: right;\">\n",
              "      <th></th>\n",
              "      <th>UserName</th>\n",
              "      <th>ScreenName</th>\n",
              "      <th>Location</th>\n",
              "      <th>TweetAt</th>\n",
              "      <th>Sentiment</th>\n",
              "      <th>NewOriginalTweet</th>\n",
              "      <th>target</th>\n",
              "      <th>word_count</th>\n",
              "      <th>char_count</th>\n",
              "      <th>sentence_count</th>\n",
              "      <th>avg_word_length</th>\n",
              "      <th>avg_sentence_length</th>\n",
              "      <th>unique_word_count</th>\n",
              "      <th>unique_vs_words</th>\n",
              "    </tr>\n",
              "  </thead>\n",
              "  <tbody>\n",
              "    <tr>\n",
              "      <th>0</th>\n",
              "      <td>1</td>\n",
              "      <td>44953</td>\n",
              "      <td>NYC</td>\n",
              "      <td>2020-02-03</td>\n",
              "      <td>Negative</td>\n",
              "      <td>trending new yorkers encounter empty supermark...</td>\n",
              "      <td>0</td>\n",
              "      <td>18</td>\n",
              "      <td>141</td>\n",
              "      <td>1</td>\n",
              "      <td>7.833333</td>\n",
              "      <td>18.0</td>\n",
              "      <td>18</td>\n",
              "      <td>1.000000</td>\n",
              "    </tr>\n",
              "    <tr>\n",
              "      <th>1</th>\n",
              "      <td>2</td>\n",
              "      <td>44954</td>\n",
              "      <td>Seattle, WA</td>\n",
              "      <td>2020-02-03</td>\n",
              "      <td>Positive</td>\n",
              "      <td>could n't find hand sanitizer fred meyer turne...</td>\n",
              "      <td>2</td>\n",
              "      <td>16</td>\n",
              "      <td>91</td>\n",
              "      <td>1</td>\n",
              "      <td>5.687500</td>\n",
              "      <td>16.0</td>\n",
              "      <td>16</td>\n",
              "      <td>1.000000</td>\n",
              "    </tr>\n",
              "    <tr>\n",
              "      <th>2</th>\n",
              "      <td>3</td>\n",
              "      <td>44955</td>\n",
              "      <td>United States</td>\n",
              "      <td>2020-02-03</td>\n",
              "      <td>Positive</td>\n",
              "      <td>find protect loved one coronavirus</td>\n",
              "      <td>2</td>\n",
              "      <td>5</td>\n",
              "      <td>30</td>\n",
              "      <td>1</td>\n",
              "      <td>6.000000</td>\n",
              "      <td>5.0</td>\n",
              "      <td>5</td>\n",
              "      <td>1.000000</td>\n",
              "    </tr>\n",
              "    <tr>\n",
              "      <th>3</th>\n",
              "      <td>4</td>\n",
              "      <td>44956</td>\n",
              "      <td>Chicagoland</td>\n",
              "      <td>2020-02-03</td>\n",
              "      <td>Negative</td>\n",
              "      <td>panic buying hit newyork city anxious shopper ...</td>\n",
              "      <td>0</td>\n",
              "      <td>21</td>\n",
              "      <td>133</td>\n",
              "      <td>1</td>\n",
              "      <td>6.333333</td>\n",
              "      <td>21.0</td>\n",
              "      <td>21</td>\n",
              "      <td>1.000000</td>\n",
              "    </tr>\n",
              "    <tr>\n",
              "      <th>4</th>\n",
              "      <td>5</td>\n",
              "      <td>44957</td>\n",
              "      <td>Melbourne, Victoria</td>\n",
              "      <td>2020-03-03</td>\n",
              "      <td>Neutral</td>\n",
              "      <td>toiletpaper dunnypaper coronavirus coronavirus...</td>\n",
              "      <td>1</td>\n",
              "      <td>23</td>\n",
              "      <td>180</td>\n",
              "      <td>1</td>\n",
              "      <td>7.826087</td>\n",
              "      <td>23.0</td>\n",
              "      <td>21</td>\n",
              "      <td>0.913043</td>\n",
              "    </tr>\n",
              "  </tbody>\n",
              "</table>\n",
              "</div>"
            ],
            "text/plain": [
              "   UserName  ScreenName             Location    TweetAt Sentiment  \\\n",
              "0         1       44953                  NYC 2020-02-03  Negative   \n",
              "1         2       44954          Seattle, WA 2020-02-03  Positive   \n",
              "2         3       44955        United States 2020-02-03  Positive   \n",
              "3         4       44956          Chicagoland 2020-02-03  Negative   \n",
              "4         5       44957  Melbourne, Victoria 2020-03-03   Neutral   \n",
              "\n",
              "                                    NewOriginalTweet  target  word_count  \\\n",
              "0  trending new yorkers encounter empty supermark...       0          18   \n",
              "1  could n't find hand sanitizer fred meyer turne...       2          16   \n",
              "2                 find protect loved one coronavirus       2           5   \n",
              "3  panic buying hit newyork city anxious shopper ...       0          21   \n",
              "4  toiletpaper dunnypaper coronavirus coronavirus...       1          23   \n",
              "\n",
              "   char_count  sentence_count  avg_word_length  avg_sentence_length  \\\n",
              "0         141               1         7.833333                 18.0   \n",
              "1          91               1         5.687500                 16.0   \n",
              "2          30               1         6.000000                  5.0   \n",
              "3         133               1         6.333333                 21.0   \n",
              "4         180               1         7.826087                 23.0   \n",
              "\n",
              "   unique_word_count  unique_vs_words  \n",
              "0                 18         1.000000  \n",
              "1                 16         1.000000  \n",
              "2                  5         1.000000  \n",
              "3                 21         1.000000  \n",
              "4                 21         0.913043  "
            ]
          },
          "execution_count": 22,
          "metadata": {},
          "output_type": "execute_result"
        }
      ],
      "source": [
        "new_test_data.drop(['OriginalTweet'], axis=1, inplace=True)\n",
        "\n",
        "new_test_data.head()"
      ]
    },
    {
      "cell_type": "code",
      "execution_count": 24,
      "metadata": {
        "id": "h4wm_la5Hnkv"
      },
      "outputs": [],
      "source": [
        "new_train_data.to_csv(\"Processed_Train.csv\",encoding='iso-8859-1',index=False,na_rep='NULL')"
      ]
    },
    {
      "cell_type": "code",
      "execution_count": 25,
      "metadata": {
        "id": "0lnIZv0VSnXP"
      },
      "outputs": [],
      "source": [
        "new_test_data.to_csv(\"Processed_Test.csv\",encoding='iso-8859-1',index=False,na_rep='NULL')"
      ]
    }
  ],
  "metadata": {
    "colab": {
      "provenance": []
    },
    "kernelspec": {
      "display_name": "Python 3",
      "name": "python3"
    },
    "language_info": {
      "codemirror_mode": {
        "name": "ipython",
        "version": 3
      },
      "file_extension": ".py",
      "mimetype": "text/x-python",
      "name": "python",
      "nbconvert_exporter": "python",
      "pygments_lexer": "ipython3",
      "version": "3.10.7"
    }
  },
  "nbformat": 4,
  "nbformat_minor": 0
}
